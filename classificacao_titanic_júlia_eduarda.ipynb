{
  "cells": [
    {
      "cell_type": "markdown",
      "metadata": {
        "id": "view-in-github",
        "colab_type": "text"
      },
      "source": [
        "<a href=\"https://colab.research.google.com/github/juliaeduarda-rg/Classificacao-Titanic/blob/main/classificacao_titanic_j%C3%BAlia_eduarda.ipynb\" target=\"_parent\"><img src=\"https://colab.research.google.com/assets/colab-badge.svg\" alt=\"Open In Colab\"/></a>"
      ]
    },
    {
      "cell_type": "markdown",
      "source": [
        "## Um problema maior, do tamanho de um Návio!\n",
        "\n",
        "Que tal pegarmos uma base de dados da vida real e trabalhar um pouco mais com algoritmos de classificação?\n",
        "\n",
        "Dessa vez, vamos usar um base classicamente usada para aprender aprendizado de maquina: A `Titanic`. Essa base descreve, para cada passageiro no histórico návio, se ele sobreviveu ou não aquela tragédia. Dentro das nossas `features` temos informações numéricas como idade e número de parentes a bordo, catégoricas como sexo e portão de embarque e até colunas que descrevem em qual cabine aquele passageiro estava dormindo!\n",
        "\n",
        "### Questão 1\n",
        "\n",
        "Nossa missão aqui é predizer quando um determinado passageiro sobreviveu ou não, sendo `1` sobreviveu e `0` não sobreviveu. Mas antes vamos tomar um tempo para estudar a base! Vamos usa-la bastante nesse exercício então precisamos nos familiarizar.\n",
        "\n",
        "Carregue a base `dataset/titanic_test.csv` e `dataset/titanic_train.csv`. Repare que como nossos dados estão separados em arquivos não iremos precisar usar o train_test_split! \n",
        "\n",
        "Através do arquivo de treino (`dataset/titanic_train.csv`) Visualize graficamente cada coluna, suas distribuições, sua cardinalidade, etc...\n",
        "\n",
        "Talvez você irá precisar de um catálogo explicando o que cada coluna que pode ser [encontrado aqui](https://www.kaggle.com/c/titanic/data)."
      ],
      "metadata": {
        "tags": [],
        "cell_id": "00008-f574aa0d-ee2b-4876-822e-057ae103de00",
        "deepnote_cell_type": "markdown",
        "deepnote_cell_height": 472.78125,
        "id": "vDiZ0YyTVjYC"
      }
    },
    {
      "cell_type": "code",
      "source": [
        "import numpy as np \n",
        "import pandas as pd\n",
        "import matplotlib.pyplot as plt\n",
        "import seaborn as sns"
      ],
      "metadata": {
        "tags": [],
        "cell_id": "00001-5923ce1f-5d34-4ce9-98c1-ebdc3ee7cba9",
        "deepnote_to_be_reexecuted": false,
        "source_hash": "cd1615fd",
        "execution_start": 1660611154722,
        "execution_millis": 1,
        "deepnote_cell_type": "code",
        "deepnote_cell_height": 166,
        "id": "H15_GaxQVjYE"
      },
      "execution_count": null,
      "outputs": []
    },
    {
      "cell_type": "code",
      "source": [
        "#Questão 1\n",
        "#Escreva aqui o comando para importar os dados do arquivo titanic_train.csv para o seu dataframe usando pandas\n",
        "#lembra como ler(read em inglês) o arquivo?\n",
        "titanic_train = pd.read_csv('titanic_train.csv')\n",
        "titanic_train"
      ],
      "metadata": {
        "cell_id": "e20c77be71174b82803c8507a244100d",
        "tags": [],
        "deepnote_cell_type": "code",
        "deepnote_cell_height": 120,
        "id": "iJXKjrJZVjYF",
        "colab": {
          "base_uri": "https://localhost:8080/",
          "height": 519
        },
        "outputId": "8ca4fa9f-eeb1-4050-9c83-da01da6b2623"
      },
      "outputs": [
        {
          "output_type": "execute_result",
          "data": {
            "text/plain": [
              "     PassengerId  Survived  Pclass  \\\n",
              "0              1         0       3   \n",
              "1              2         1       1   \n",
              "2              3         1       3   \n",
              "3              4         1       1   \n",
              "4              5         0       3   \n",
              "..           ...       ...     ...   \n",
              "886          887         0       2   \n",
              "887          888         1       1   \n",
              "888          889         0       3   \n",
              "889          890         1       1   \n",
              "890          891         0       3   \n",
              "\n",
              "                                                  Name     Sex   Age  SibSp  \\\n",
              "0                              Braund, Mr. Owen Harris    male  22.0      1   \n",
              "1    Cumings, Mrs. John Bradley (Florence Briggs Th...  female  38.0      1   \n",
              "2                               Heikkinen, Miss. Laina  female  26.0      0   \n",
              "3         Futrelle, Mrs. Jacques Heath (Lily May Peel)  female  35.0      1   \n",
              "4                             Allen, Mr. William Henry    male  35.0      0   \n",
              "..                                                 ...     ...   ...    ...   \n",
              "886                              Montvila, Rev. Juozas    male  27.0      0   \n",
              "887                       Graham, Miss. Margaret Edith  female  19.0      0   \n",
              "888           Johnston, Miss. Catherine Helen \"Carrie\"  female   NaN      1   \n",
              "889                              Behr, Mr. Karl Howell    male  26.0      0   \n",
              "890                                Dooley, Mr. Patrick    male  32.0      0   \n",
              "\n",
              "     Parch            Ticket     Fare Cabin Embarked  \n",
              "0        0         A/5 21171   7.2500   NaN        S  \n",
              "1        0          PC 17599  71.2833   C85        C  \n",
              "2        0  STON/O2. 3101282   7.9250   NaN        S  \n",
              "3        0            113803  53.1000  C123        S  \n",
              "4        0            373450   8.0500   NaN        S  \n",
              "..     ...               ...      ...   ...      ...  \n",
              "886      0            211536  13.0000   NaN        S  \n",
              "887      0            112053  30.0000   B42        S  \n",
              "888      2        W./C. 6607  23.4500   NaN        S  \n",
              "889      0            111369  30.0000  C148        C  \n",
              "890      0            370376   7.7500   NaN        Q  \n",
              "\n",
              "[891 rows x 12 columns]"
            ],
            "text/html": [
              "\n",
              "  <div id=\"df-892d48c4-2802-414c-bfc3-003406950604\">\n",
              "    <div class=\"colab-df-container\">\n",
              "      <div>\n",
              "<style scoped>\n",
              "    .dataframe tbody tr th:only-of-type {\n",
              "        vertical-align: middle;\n",
              "    }\n",
              "\n",
              "    .dataframe tbody tr th {\n",
              "        vertical-align: top;\n",
              "    }\n",
              "\n",
              "    .dataframe thead th {\n",
              "        text-align: right;\n",
              "    }\n",
              "</style>\n",
              "<table border=\"1\" class=\"dataframe\">\n",
              "  <thead>\n",
              "    <tr style=\"text-align: right;\">\n",
              "      <th></th>\n",
              "      <th>PassengerId</th>\n",
              "      <th>Survived</th>\n",
              "      <th>Pclass</th>\n",
              "      <th>Name</th>\n",
              "      <th>Sex</th>\n",
              "      <th>Age</th>\n",
              "      <th>SibSp</th>\n",
              "      <th>Parch</th>\n",
              "      <th>Ticket</th>\n",
              "      <th>Fare</th>\n",
              "      <th>Cabin</th>\n",
              "      <th>Embarked</th>\n",
              "    </tr>\n",
              "  </thead>\n",
              "  <tbody>\n",
              "    <tr>\n",
              "      <th>0</th>\n",
              "      <td>1</td>\n",
              "      <td>0</td>\n",
              "      <td>3</td>\n",
              "      <td>Braund, Mr. Owen Harris</td>\n",
              "      <td>male</td>\n",
              "      <td>22.0</td>\n",
              "      <td>1</td>\n",
              "      <td>0</td>\n",
              "      <td>A/5 21171</td>\n",
              "      <td>7.2500</td>\n",
              "      <td>NaN</td>\n",
              "      <td>S</td>\n",
              "    </tr>\n",
              "    <tr>\n",
              "      <th>1</th>\n",
              "      <td>2</td>\n",
              "      <td>1</td>\n",
              "      <td>1</td>\n",
              "      <td>Cumings, Mrs. John Bradley (Florence Briggs Th...</td>\n",
              "      <td>female</td>\n",
              "      <td>38.0</td>\n",
              "      <td>1</td>\n",
              "      <td>0</td>\n",
              "      <td>PC 17599</td>\n",
              "      <td>71.2833</td>\n",
              "      <td>C85</td>\n",
              "      <td>C</td>\n",
              "    </tr>\n",
              "    <tr>\n",
              "      <th>2</th>\n",
              "      <td>3</td>\n",
              "      <td>1</td>\n",
              "      <td>3</td>\n",
              "      <td>Heikkinen, Miss. Laina</td>\n",
              "      <td>female</td>\n",
              "      <td>26.0</td>\n",
              "      <td>0</td>\n",
              "      <td>0</td>\n",
              "      <td>STON/O2. 3101282</td>\n",
              "      <td>7.9250</td>\n",
              "      <td>NaN</td>\n",
              "      <td>S</td>\n",
              "    </tr>\n",
              "    <tr>\n",
              "      <th>3</th>\n",
              "      <td>4</td>\n",
              "      <td>1</td>\n",
              "      <td>1</td>\n",
              "      <td>Futrelle, Mrs. Jacques Heath (Lily May Peel)</td>\n",
              "      <td>female</td>\n",
              "      <td>35.0</td>\n",
              "      <td>1</td>\n",
              "      <td>0</td>\n",
              "      <td>113803</td>\n",
              "      <td>53.1000</td>\n",
              "      <td>C123</td>\n",
              "      <td>S</td>\n",
              "    </tr>\n",
              "    <tr>\n",
              "      <th>4</th>\n",
              "      <td>5</td>\n",
              "      <td>0</td>\n",
              "      <td>3</td>\n",
              "      <td>Allen, Mr. William Henry</td>\n",
              "      <td>male</td>\n",
              "      <td>35.0</td>\n",
              "      <td>0</td>\n",
              "      <td>0</td>\n",
              "      <td>373450</td>\n",
              "      <td>8.0500</td>\n",
              "      <td>NaN</td>\n",
              "      <td>S</td>\n",
              "    </tr>\n",
              "    <tr>\n",
              "      <th>...</th>\n",
              "      <td>...</td>\n",
              "      <td>...</td>\n",
              "      <td>...</td>\n",
              "      <td>...</td>\n",
              "      <td>...</td>\n",
              "      <td>...</td>\n",
              "      <td>...</td>\n",
              "      <td>...</td>\n",
              "      <td>...</td>\n",
              "      <td>...</td>\n",
              "      <td>...</td>\n",
              "      <td>...</td>\n",
              "    </tr>\n",
              "    <tr>\n",
              "      <th>886</th>\n",
              "      <td>887</td>\n",
              "      <td>0</td>\n",
              "      <td>2</td>\n",
              "      <td>Montvila, Rev. Juozas</td>\n",
              "      <td>male</td>\n",
              "      <td>27.0</td>\n",
              "      <td>0</td>\n",
              "      <td>0</td>\n",
              "      <td>211536</td>\n",
              "      <td>13.0000</td>\n",
              "      <td>NaN</td>\n",
              "      <td>S</td>\n",
              "    </tr>\n",
              "    <tr>\n",
              "      <th>887</th>\n",
              "      <td>888</td>\n",
              "      <td>1</td>\n",
              "      <td>1</td>\n",
              "      <td>Graham, Miss. Margaret Edith</td>\n",
              "      <td>female</td>\n",
              "      <td>19.0</td>\n",
              "      <td>0</td>\n",
              "      <td>0</td>\n",
              "      <td>112053</td>\n",
              "      <td>30.0000</td>\n",
              "      <td>B42</td>\n",
              "      <td>S</td>\n",
              "    </tr>\n",
              "    <tr>\n",
              "      <th>888</th>\n",
              "      <td>889</td>\n",
              "      <td>0</td>\n",
              "      <td>3</td>\n",
              "      <td>Johnston, Miss. Catherine Helen \"Carrie\"</td>\n",
              "      <td>female</td>\n",
              "      <td>NaN</td>\n",
              "      <td>1</td>\n",
              "      <td>2</td>\n",
              "      <td>W./C. 6607</td>\n",
              "      <td>23.4500</td>\n",
              "      <td>NaN</td>\n",
              "      <td>S</td>\n",
              "    </tr>\n",
              "    <tr>\n",
              "      <th>889</th>\n",
              "      <td>890</td>\n",
              "      <td>1</td>\n",
              "      <td>1</td>\n",
              "      <td>Behr, Mr. Karl Howell</td>\n",
              "      <td>male</td>\n",
              "      <td>26.0</td>\n",
              "      <td>0</td>\n",
              "      <td>0</td>\n",
              "      <td>111369</td>\n",
              "      <td>30.0000</td>\n",
              "      <td>C148</td>\n",
              "      <td>C</td>\n",
              "    </tr>\n",
              "    <tr>\n",
              "      <th>890</th>\n",
              "      <td>891</td>\n",
              "      <td>0</td>\n",
              "      <td>3</td>\n",
              "      <td>Dooley, Mr. Patrick</td>\n",
              "      <td>male</td>\n",
              "      <td>32.0</td>\n",
              "      <td>0</td>\n",
              "      <td>0</td>\n",
              "      <td>370376</td>\n",
              "      <td>7.7500</td>\n",
              "      <td>NaN</td>\n",
              "      <td>Q</td>\n",
              "    </tr>\n",
              "  </tbody>\n",
              "</table>\n",
              "<p>891 rows × 12 columns</p>\n",
              "</div>\n",
              "      <button class=\"colab-df-convert\" onclick=\"convertToInteractive('df-892d48c4-2802-414c-bfc3-003406950604')\"\n",
              "              title=\"Convert this dataframe to an interactive table.\"\n",
              "              style=\"display:none;\">\n",
              "        \n",
              "  <svg xmlns=\"http://www.w3.org/2000/svg\" height=\"24px\"viewBox=\"0 0 24 24\"\n",
              "       width=\"24px\">\n",
              "    <path d=\"M0 0h24v24H0V0z\" fill=\"none\"/>\n",
              "    <path d=\"M18.56 5.44l.94 2.06.94-2.06 2.06-.94-2.06-.94-.94-2.06-.94 2.06-2.06.94zm-11 1L8.5 8.5l.94-2.06 2.06-.94-2.06-.94L8.5 2.5l-.94 2.06-2.06.94zm10 10l.94 2.06.94-2.06 2.06-.94-2.06-.94-.94-2.06-.94 2.06-2.06.94z\"/><path d=\"M17.41 7.96l-1.37-1.37c-.4-.4-.92-.59-1.43-.59-.52 0-1.04.2-1.43.59L10.3 9.45l-7.72 7.72c-.78.78-.78 2.05 0 2.83L4 21.41c.39.39.9.59 1.41.59.51 0 1.02-.2 1.41-.59l7.78-7.78 2.81-2.81c.8-.78.8-2.07 0-2.86zM5.41 20L4 18.59l7.72-7.72 1.47 1.35L5.41 20z\"/>\n",
              "  </svg>\n",
              "      </button>\n",
              "      \n",
              "  <style>\n",
              "    .colab-df-container {\n",
              "      display:flex;\n",
              "      flex-wrap:wrap;\n",
              "      gap: 12px;\n",
              "    }\n",
              "\n",
              "    .colab-df-convert {\n",
              "      background-color: #E8F0FE;\n",
              "      border: none;\n",
              "      border-radius: 50%;\n",
              "      cursor: pointer;\n",
              "      display: none;\n",
              "      fill: #1967D2;\n",
              "      height: 32px;\n",
              "      padding: 0 0 0 0;\n",
              "      width: 32px;\n",
              "    }\n",
              "\n",
              "    .colab-df-convert:hover {\n",
              "      background-color: #E2EBFA;\n",
              "      box-shadow: 0px 1px 2px rgba(60, 64, 67, 0.3), 0px 1px 3px 1px rgba(60, 64, 67, 0.15);\n",
              "      fill: #174EA6;\n",
              "    }\n",
              "\n",
              "    [theme=dark] .colab-df-convert {\n",
              "      background-color: #3B4455;\n",
              "      fill: #D2E3FC;\n",
              "    }\n",
              "\n",
              "    [theme=dark] .colab-df-convert:hover {\n",
              "      background-color: #434B5C;\n",
              "      box-shadow: 0px 1px 3px 1px rgba(0, 0, 0, 0.15);\n",
              "      filter: drop-shadow(0px 1px 2px rgba(0, 0, 0, 0.3));\n",
              "      fill: #FFFFFF;\n",
              "    }\n",
              "  </style>\n",
              "\n",
              "      <script>\n",
              "        const buttonEl =\n",
              "          document.querySelector('#df-892d48c4-2802-414c-bfc3-003406950604 button.colab-df-convert');\n",
              "        buttonEl.style.display =\n",
              "          google.colab.kernel.accessAllowed ? 'block' : 'none';\n",
              "\n",
              "        async function convertToInteractive(key) {\n",
              "          const element = document.querySelector('#df-892d48c4-2802-414c-bfc3-003406950604');\n",
              "          const dataTable =\n",
              "            await google.colab.kernel.invokeFunction('convertToInteractive',\n",
              "                                                     [key], {});\n",
              "          if (!dataTable) return;\n",
              "\n",
              "          const docLinkHtml = 'Like what you see? Visit the ' +\n",
              "            '<a target=\"_blank\" href=https://colab.research.google.com/notebooks/data_table.ipynb>data table notebook</a>'\n",
              "            + ' to learn more about interactive tables.';\n",
              "          element.innerHTML = '';\n",
              "          dataTable['output_type'] = 'display_data';\n",
              "          await google.colab.output.renderOutput(dataTable, element);\n",
              "          const docLink = document.createElement('div');\n",
              "          docLink.innerHTML = docLinkHtml;\n",
              "          element.appendChild(docLink);\n",
              "        }\n",
              "      </script>\n",
              "    </div>\n",
              "  </div>\n",
              "  "
            ]
          },
          "metadata": {},
          "execution_count": 4
        }
      ],
      "execution_count": null
    },
    {
      "cell_type": "code",
      "source": [
        "# Questão 2\n",
        "# Agora de uma olhada nos dados para se familizarizar com as colunas númericas. Dica: descreva os dados? (describe)\n",
        "titanic_train.describe()"
      ],
      "metadata": {
        "tags": [],
        "cell_id": "00002-e11e2635-8e4f-41b9-8d02-5e295359db62",
        "deepnote_to_be_reexecuted": false,
        "source_hash": "b9583d9b",
        "execution_start": 1660611206069,
        "execution_millis": 1,
        "deepnote_cell_type": "code",
        "deepnote_cell_height": 117,
        "id": "sq4nqp-VVjYF",
        "colab": {
          "base_uri": "https://localhost:8080/",
          "height": 300
        },
        "outputId": "38a44201-e7bc-41c4-8c99-5191b522939f"
      },
      "execution_count": null,
      "outputs": [
        {
          "output_type": "execute_result",
          "data": {
            "text/plain": [
              "       PassengerId    Survived      Pclass         Age       SibSp  \\\n",
              "count   891.000000  891.000000  891.000000  714.000000  891.000000   \n",
              "mean    446.000000    0.383838    2.308642   29.699118    0.523008   \n",
              "std     257.353842    0.486592    0.836071   14.526497    1.102743   \n",
              "min       1.000000    0.000000    1.000000    0.420000    0.000000   \n",
              "25%     223.500000    0.000000    2.000000   20.125000    0.000000   \n",
              "50%     446.000000    0.000000    3.000000   28.000000    0.000000   \n",
              "75%     668.500000    1.000000    3.000000   38.000000    1.000000   \n",
              "max     891.000000    1.000000    3.000000   80.000000    8.000000   \n",
              "\n",
              "            Parch        Fare  \n",
              "count  891.000000  891.000000  \n",
              "mean     0.381594   32.204208  \n",
              "std      0.806057   49.693429  \n",
              "min      0.000000    0.000000  \n",
              "25%      0.000000    7.910400  \n",
              "50%      0.000000   14.454200  \n",
              "75%      0.000000   31.000000  \n",
              "max      6.000000  512.329200  "
            ],
            "text/html": [
              "\n",
              "  <div id=\"df-f94d31be-13cf-4ad3-8ac7-c78dcd50f453\">\n",
              "    <div class=\"colab-df-container\">\n",
              "      <div>\n",
              "<style scoped>\n",
              "    .dataframe tbody tr th:only-of-type {\n",
              "        vertical-align: middle;\n",
              "    }\n",
              "\n",
              "    .dataframe tbody tr th {\n",
              "        vertical-align: top;\n",
              "    }\n",
              "\n",
              "    .dataframe thead th {\n",
              "        text-align: right;\n",
              "    }\n",
              "</style>\n",
              "<table border=\"1\" class=\"dataframe\">\n",
              "  <thead>\n",
              "    <tr style=\"text-align: right;\">\n",
              "      <th></th>\n",
              "      <th>PassengerId</th>\n",
              "      <th>Survived</th>\n",
              "      <th>Pclass</th>\n",
              "      <th>Age</th>\n",
              "      <th>SibSp</th>\n",
              "      <th>Parch</th>\n",
              "      <th>Fare</th>\n",
              "    </tr>\n",
              "  </thead>\n",
              "  <tbody>\n",
              "    <tr>\n",
              "      <th>count</th>\n",
              "      <td>891.000000</td>\n",
              "      <td>891.000000</td>\n",
              "      <td>891.000000</td>\n",
              "      <td>714.000000</td>\n",
              "      <td>891.000000</td>\n",
              "      <td>891.000000</td>\n",
              "      <td>891.000000</td>\n",
              "    </tr>\n",
              "    <tr>\n",
              "      <th>mean</th>\n",
              "      <td>446.000000</td>\n",
              "      <td>0.383838</td>\n",
              "      <td>2.308642</td>\n",
              "      <td>29.699118</td>\n",
              "      <td>0.523008</td>\n",
              "      <td>0.381594</td>\n",
              "      <td>32.204208</td>\n",
              "    </tr>\n",
              "    <tr>\n",
              "      <th>std</th>\n",
              "      <td>257.353842</td>\n",
              "      <td>0.486592</td>\n",
              "      <td>0.836071</td>\n",
              "      <td>14.526497</td>\n",
              "      <td>1.102743</td>\n",
              "      <td>0.806057</td>\n",
              "      <td>49.693429</td>\n",
              "    </tr>\n",
              "    <tr>\n",
              "      <th>min</th>\n",
              "      <td>1.000000</td>\n",
              "      <td>0.000000</td>\n",
              "      <td>1.000000</td>\n",
              "      <td>0.420000</td>\n",
              "      <td>0.000000</td>\n",
              "      <td>0.000000</td>\n",
              "      <td>0.000000</td>\n",
              "    </tr>\n",
              "    <tr>\n",
              "      <th>25%</th>\n",
              "      <td>223.500000</td>\n",
              "      <td>0.000000</td>\n",
              "      <td>2.000000</td>\n",
              "      <td>20.125000</td>\n",
              "      <td>0.000000</td>\n",
              "      <td>0.000000</td>\n",
              "      <td>7.910400</td>\n",
              "    </tr>\n",
              "    <tr>\n",
              "      <th>50%</th>\n",
              "      <td>446.000000</td>\n",
              "      <td>0.000000</td>\n",
              "      <td>3.000000</td>\n",
              "      <td>28.000000</td>\n",
              "      <td>0.000000</td>\n",
              "      <td>0.000000</td>\n",
              "      <td>14.454200</td>\n",
              "    </tr>\n",
              "    <tr>\n",
              "      <th>75%</th>\n",
              "      <td>668.500000</td>\n",
              "      <td>1.000000</td>\n",
              "      <td>3.000000</td>\n",
              "      <td>38.000000</td>\n",
              "      <td>1.000000</td>\n",
              "      <td>0.000000</td>\n",
              "      <td>31.000000</td>\n",
              "    </tr>\n",
              "    <tr>\n",
              "      <th>max</th>\n",
              "      <td>891.000000</td>\n",
              "      <td>1.000000</td>\n",
              "      <td>3.000000</td>\n",
              "      <td>80.000000</td>\n",
              "      <td>8.000000</td>\n",
              "      <td>6.000000</td>\n",
              "      <td>512.329200</td>\n",
              "    </tr>\n",
              "  </tbody>\n",
              "</table>\n",
              "</div>\n",
              "      <button class=\"colab-df-convert\" onclick=\"convertToInteractive('df-f94d31be-13cf-4ad3-8ac7-c78dcd50f453')\"\n",
              "              title=\"Convert this dataframe to an interactive table.\"\n",
              "              style=\"display:none;\">\n",
              "        \n",
              "  <svg xmlns=\"http://www.w3.org/2000/svg\" height=\"24px\"viewBox=\"0 0 24 24\"\n",
              "       width=\"24px\">\n",
              "    <path d=\"M0 0h24v24H0V0z\" fill=\"none\"/>\n",
              "    <path d=\"M18.56 5.44l.94 2.06.94-2.06 2.06-.94-2.06-.94-.94-2.06-.94 2.06-2.06.94zm-11 1L8.5 8.5l.94-2.06 2.06-.94-2.06-.94L8.5 2.5l-.94 2.06-2.06.94zm10 10l.94 2.06.94-2.06 2.06-.94-2.06-.94-.94-2.06-.94 2.06-2.06.94z\"/><path d=\"M17.41 7.96l-1.37-1.37c-.4-.4-.92-.59-1.43-.59-.52 0-1.04.2-1.43.59L10.3 9.45l-7.72 7.72c-.78.78-.78 2.05 0 2.83L4 21.41c.39.39.9.59 1.41.59.51 0 1.02-.2 1.41-.59l7.78-7.78 2.81-2.81c.8-.78.8-2.07 0-2.86zM5.41 20L4 18.59l7.72-7.72 1.47 1.35L5.41 20z\"/>\n",
              "  </svg>\n",
              "      </button>\n",
              "      \n",
              "  <style>\n",
              "    .colab-df-container {\n",
              "      display:flex;\n",
              "      flex-wrap:wrap;\n",
              "      gap: 12px;\n",
              "    }\n",
              "\n",
              "    .colab-df-convert {\n",
              "      background-color: #E8F0FE;\n",
              "      border: none;\n",
              "      border-radius: 50%;\n",
              "      cursor: pointer;\n",
              "      display: none;\n",
              "      fill: #1967D2;\n",
              "      height: 32px;\n",
              "      padding: 0 0 0 0;\n",
              "      width: 32px;\n",
              "    }\n",
              "\n",
              "    .colab-df-convert:hover {\n",
              "      background-color: #E2EBFA;\n",
              "      box-shadow: 0px 1px 2px rgba(60, 64, 67, 0.3), 0px 1px 3px 1px rgba(60, 64, 67, 0.15);\n",
              "      fill: #174EA6;\n",
              "    }\n",
              "\n",
              "    [theme=dark] .colab-df-convert {\n",
              "      background-color: #3B4455;\n",
              "      fill: #D2E3FC;\n",
              "    }\n",
              "\n",
              "    [theme=dark] .colab-df-convert:hover {\n",
              "      background-color: #434B5C;\n",
              "      box-shadow: 0px 1px 3px 1px rgba(0, 0, 0, 0.15);\n",
              "      filter: drop-shadow(0px 1px 2px rgba(0, 0, 0, 0.3));\n",
              "      fill: #FFFFFF;\n",
              "    }\n",
              "  </style>\n",
              "\n",
              "      <script>\n",
              "        const buttonEl =\n",
              "          document.querySelector('#df-f94d31be-13cf-4ad3-8ac7-c78dcd50f453 button.colab-df-convert');\n",
              "        buttonEl.style.display =\n",
              "          google.colab.kernel.accessAllowed ? 'block' : 'none';\n",
              "\n",
              "        async function convertToInteractive(key) {\n",
              "          const element = document.querySelector('#df-f94d31be-13cf-4ad3-8ac7-c78dcd50f453');\n",
              "          const dataTable =\n",
              "            await google.colab.kernel.invokeFunction('convertToInteractive',\n",
              "                                                     [key], {});\n",
              "          if (!dataTable) return;\n",
              "\n",
              "          const docLinkHtml = 'Like what you see? Visit the ' +\n",
              "            '<a target=\"_blank\" href=https://colab.research.google.com/notebooks/data_table.ipynb>data table notebook</a>'\n",
              "            + ' to learn more about interactive tables.';\n",
              "          element.innerHTML = '';\n",
              "          dataTable['output_type'] = 'display_data';\n",
              "          await google.colab.output.renderOutput(dataTable, element);\n",
              "          const docLink = document.createElement('div');\n",
              "          docLink.innerHTML = docLinkHtml;\n",
              "          element.appendChild(docLink);\n",
              "        }\n",
              "      </script>\n",
              "    </div>\n",
              "  </div>\n",
              "  "
            ]
          },
          "metadata": {},
          "execution_count": 5
        }
      ]
    },
    {
      "cell_type": "code",
      "source": [
        "## Questão 3 \n",
        "#sera que temos dados nulos? se sim, quantos? (isnull com um sum)\n",
        "titanic_train.isnull().sum()"
      ],
      "metadata": {
        "tags": [],
        "cell_id": "00003-a454844b-a9ec-49e0-bcca-6c4c93cb8479",
        "deepnote_to_be_reexecuted": false,
        "source_hash": "f4f9f7ac",
        "execution_start": 1660611292617,
        "execution_millis": 2,
        "deepnote_cell_type": "code",
        "deepnote_cell_height": 112,
        "id": "EUdCWCGvVjYG",
        "colab": {
          "base_uri": "https://localhost:8080/"
        },
        "outputId": "22f56822-23e2-45b7-f123-ef953991b71a"
      },
      "execution_count": null,
      "outputs": [
        {
          "output_type": "execute_result",
          "data": {
            "text/plain": [
              "PassengerId      0\n",
              "Survived         0\n",
              "Pclass           0\n",
              "Name             0\n",
              "Sex              0\n",
              "Age            177\n",
              "SibSp            0\n",
              "Parch            0\n",
              "Ticket           0\n",
              "Fare             0\n",
              "Cabin          687\n",
              "Embarked         2\n",
              "dtype: int64"
            ]
          },
          "metadata": {},
          "execution_count": 6
        }
      ]
    },
    {
      "cell_type": "code",
      "source": [
        "#Questão 4\n",
        "#plot um gráfico contando (count) a quantidade de pessoas que sobreviveram. Essa informação está na coluna `Survived`\n",
        "#dica1 plt.figure(figsize=(8,6))\n",
        "plt.figure(figsize=(8,6))\n",
        "sns.countplot(x=\"Survived\",data=titanic_train)"
      ],
      "metadata": {
        "tags": [],
        "cell_id": "00004-0ffcb16c-8ff7-4753-944a-4737d230549a",
        "deepnote_to_be_reexecuted": false,
        "source_hash": "be2a2917",
        "execution_start": 1660611471895,
        "execution_millis": 1,
        "deepnote_cell_type": "code",
        "deepnote_cell_height": 135,
        "deepnote_output_heights": [
          21.1875,
          373
        ],
        "id": "dHfcnOPLVjYH",
        "colab": {
          "base_uri": "https://localhost:8080/",
          "height": 406
        },
        "outputId": "1bfe6238-5d3b-4d47-aad8-db40b059b811"
      },
      "execution_count": null,
      "outputs": [
        {
          "output_type": "execute_result",
          "data": {
            "text/plain": [
              "<matplotlib.axes._subplots.AxesSubplot at 0x7f8b9132d490>"
            ]
          },
          "metadata": {},
          "execution_count": 7
        },
        {
          "output_type": "display_data",
          "data": {
            "text/plain": [
              "<Figure size 576x432 with 1 Axes>"
            ],
            "image/png": "[encoded data removed]"
          },
          "metadata": {
            "needs_background": "light"
          }
        }
      ]
    },
    {
      "cell_type": "code",
      "source": [
        "#Questão 4\n",
        "#plot um gráfico contando (count) a quantidade de pessoas por gênero. Essa informação está na coluna `Sex`\n",
        "#dica1 plt.figure(figsize=(8,6))\n",
        "plt.figure(figsize=(8,6))\n",
        "sns.countplot(x = \"Sex\", data=titanic_train)"
      ],
      "metadata": {
        "tags": [],
        "cell_id": "00005-994c7ee6-7475-4f9a-ab5b-0b1afa240c8b",
        "deepnote_to_be_reexecuted": false,
        "source_hash": "ef09f368",
        "execution_start": 1660611528149,
        "execution_millis": 209,
        "deepnote_cell_type": "code",
        "deepnote_cell_height": 487.1875,
        "deepnote_output_heights": [
          21.1875,
          266
        ],
        "id": "-DNJ2_INVjYH",
        "colab": {
          "base_uri": "https://localhost:8080/",
          "height": 407
        },
        "outputId": "4c9fc272-5506-4dd2-df41-4ebafbb0c745"
      },
      "execution_count": null,
      "outputs": [
        {
          "output_type": "execute_result",
          "data": {
            "text/plain": [
              "<matplotlib.axes._subplots.AxesSubplot at 0x7f8b8f999790>"
            ]
          },
          "metadata": {},
          "execution_count": 8
        },
        {
          "output_type": "display_data",
          "data": {
            "text/plain": [
              "<Figure size 576x432 with 1 Axes>"
            ],
            "image/png": "[encoded data removed]"
          },
          "metadata": {
            "needs_background": "light"
          }
        }
      ]
    },
    {
      "cell_type": "code",
      "source": [
        "#Questão 6\n",
        "#plot um gráfico contando (count) a quantidade de pessoas que sobreviveram por sexo. Essas informações estão nas colunas `Survived` e `Sex`\n",
        "#dica1 plt.figure(figsize=(8,6))\n",
        "#dica 2 x='Survived', hue='Sex'\n",
        "plt.figure(figsize=(8,6))\n",
        "sns.countplot(x= 'Survived', data= titanic_train, hue= 'Sex')\n"
      ],
      "metadata": {
        "tags": [],
        "cell_id": "00006-9f32ec2a-0b88-439a-af6b-044ca2293be3",
        "deepnote_to_be_reexecuted": false,
        "source_hash": "9b283d9a",
        "execution_start": 1660611657642,
        "execution_millis": 0,
        "deepnote_cell_type": "code",
        "deepnote_cell_height": 153,
        "deepnote_output_heights": [
          21.1875,
          373
        ],
        "id": "qlprHGzLVjYI",
        "colab": {
          "base_uri": "https://localhost:8080/",
          "height": 406
        },
        "outputId": "585a9c62-c2e9-4eb9-fca2-fc3c9f574c6c"
      },
      "execution_count": null,
      "outputs": [
        {
          "output_type": "execute_result",
          "data": {
            "text/plain": [
              "<matplotlib.axes._subplots.AxesSubplot at 0x7f8b8f4b8710>"
            ]
          },
          "metadata": {},
          "execution_count": 9
        },
        {
          "output_type": "display_data",
          "data": {
            "text/plain": [
              "<Figure size 576x432 with 1 Axes>"
            ],
            "image/png": "[encoded data removed]"
          },
          "metadata": {
            "needs_background": "light"
          }
        }
      ]
    },
    {
      "cell_type": "code",
      "source": [
        "#Questão 7\n",
        "#agora veja como são os sobreviventes de acordo com as suas classes. Essa informação está na coluna `Pclass`\n",
        "#dica1 plt.figure(figsize=(8,6))\n",
        "\n",
        "plt.figure(figsize=(8,6))\n",
        "sns.countplot(x= 'Pclass', data= titanic_train)"
      ],
      "metadata": {
        "tags": [],
        "cell_id": "00007-204fa783-7889-40f2-b160-8b8815d11f7b",
        "deepnote_to_be_reexecuted": false,
        "source_hash": "43d01109",
        "execution_start": 1660611772846,
        "execution_millis": 0,
        "deepnote_cell_type": "code",
        "deepnote_cell_height": 117,
        "deepnote_output_heights": [
          21.1875,
          373
        ],
        "id": "eFqKtA_qVjYI",
        "colab": {
          "base_uri": "https://localhost:8080/",
          "height": 406
        },
        "outputId": "6b375c33-dcd1-42f3-b56c-3379260ec7ca"
      },
      "execution_count": null,
      "outputs": [
        {
          "output_type": "execute_result",
          "data": {
            "text/plain": [
              "<matplotlib.axes._subplots.AxesSubplot at 0x7f8b8f4b8490>"
            ]
          },
          "metadata": {},
          "execution_count": 10
        },
        {
          "output_type": "display_data",
          "data": {
            "text/plain": [
              "<Figure size 576x432 with 1 Axes>"
            ],
            "image/png": "[encoded data removed]"
          },
          "metadata": {
            "needs_background": "light"
          }
        }
      ]
    },
    {
      "cell_type": "code",
      "source": [
        "#Questão 8\n",
        "#Que tal agora fazemos um boxplot para juntarmos em um mesmo gráfico quem sobreviveu, seu gênero e sua idade?\n",
        "#dica1 plt.figure(figsize=(8,6))\n",
        "#dica 2 x='Survived', y= 'Age', hue='Sex'\n",
        "\n",
        "plt.figure(figsize=(8,6))\n",
        "\n",
        "sns.boxplot(x='Survived', y= 'Age', hue='Sex', data= titanic_train)"
      ],
      "metadata": {
        "tags": [],
        "cell_id": "00008-2803dae2-2caa-4439-afab-03208f7fe2e9",
        "deepnote_to_be_reexecuted": false,
        "source_hash": "ddb04df3",
        "execution_start": 1660611845122,
        "execution_millis": 1,
        "deepnote_cell_type": "code",
        "deepnote_cell_height": 135,
        "deepnote_output_heights": [
          21.1875,
          373
        ],
        "id": "pFZYtLE6VjYJ",
        "colab": {
          "base_uri": "https://localhost:8080/",
          "height": 406
        },
        "outputId": "cd58fd49-3f06-4e0d-e061-da2ccf5765df"
      },
      "execution_count": null,
      "outputs": [
        {
          "output_type": "execute_result",
          "data": {
            "text/plain": [
              "<matplotlib.axes._subplots.AxesSubplot at 0x7f8b8f3b8a10>"
            ]
          },
          "metadata": {},
          "execution_count": 11
        },
        {
          "output_type": "display_data",
          "data": {
            "text/plain": [
              "<Figure size 576x432 with 1 Axes>"
            ],
            "image/png": "[encoded data removed]"
          },
          "metadata": {
            "needs_background": "light"
          }
        }
      ]
    },
    {
      "cell_type": "code",
      "source": [
        "#Questão 9\n",
        "#Como seria um boxplot da classe `Pclass` pela tarifa `Fare`? \n",
        "#dica1 plt.figure(figsize=(8,6))\n",
        "\n",
        "sns.boxplot(x='Pclass', y= 'Fare', data= titanic_train)"
      ],
      "metadata": {
        "tags": [],
        "cell_id": "00009-a2ce1240-2070-4567-bbb2-900a510dcd18",
        "deepnote_to_be_reexecuted": false,
        "source_hash": "d7178b61",
        "execution_start": 1660611921338,
        "execution_millis": 1,
        "deepnote_cell_type": "code",
        "deepnote_cell_height": 112,
        "deepnote_output_heights": [
          21.1875,
          373
        ],
        "id": "9gkCRDj-VjYJ",
        "colab": {
          "base_uri": "https://localhost:8080/",
          "height": 297
        },
        "outputId": "69770fe1-8d6c-4944-afc7-7bcf2ea3bb16"
      },
      "execution_count": null,
      "outputs": [
        {
          "output_type": "execute_result",
          "data": {
            "text/plain": [
              "<matplotlib.axes._subplots.AxesSubplot at 0x7f8b8f306310>"
            ]
          },
          "metadata": {},
          "execution_count": 12
        },
        {
          "output_type": "display_data",
          "data": {
            "text/plain": [
              "<Figure size 432x288 with 1 Axes>"
            ],
            "image/png": "[encoded data removed]"
          },
          "metadata": {
            "needs_background": "light"
          }
        }
      ]
    },
    {
      "cell_type": "markdown",
      "source": [
        "## Usando Regressão Logística em problemas reais\n",
        "\n",
        "A regressão logística é um algoritmo de classificação binária, porém ele usa os mesmos princípios da regressão linear para resolver seus problemas.\n",
        "\n",
        "Logo, nossa entrada `X` precisa ser uma sequência de colunas numéricas e `y` uma coluna única binária.\n",
        "\n",
        "Olhando para a base do Titanic, é notavel que nosso `y` esta num formato adequado, porém, muitas colunas promissoras para nosso modelo não estão, como `gender`, `Pclass` e `Embarked`.\n",
        "\n",
        "Para torna-las númericas, precisamos **transforma-las em mais colunas e torna-las boolenas**. Isso porque não sabemos se elas tem alguma correlação, logo seria errado colocar por exemplo `Male = 1` e `Female = 0`. Para esse processo usamos um método de pré-processamento chamada **one-hot enconding**. Ainda vamos aprofundar nesse conceito na próxima aula. Por enquanto será suficiente apenas executar os comandos abaixo.\n",
        "\n",
        "### OneHotEnconding\n",
        "\n",
        "Rode o comando do scikit learn de OneHotEnconding nas colunas `gender`, `Pclass` e `Embarked`. Se quiser entender melhor o que está acontecendo, você acha a [documentação oficial](https://scikit-learn.org/stable/modules/generated/sklearn.preprocessing.OneHotEncoder.html) mas sinta-se livre para encontrar suas próprias fontes."
      ],
      "metadata": {
        "tags": [],
        "cell_id": "00010-06952b29-b7e8-410c-ab33-51c05c5f528f",
        "deepnote_cell_type": "markdown",
        "deepnote_cell_height": 436.375,
        "id": "5WiiSU0lVjYK"
      }
    },
    {
      "cell_type": "code",
      "source": [
        "from sklearn.preprocessing import OneHotEncoder\n",
        "\n",
        "train_df = pd.read_csv('titanic_train.csv') #aqui estamos carregando os dados de train para o dataframe\n",
        "\n",
        "encoder = OneHotEncoder(sparse=False)\n",
        "\n",
        "train_X_encoded = pd.DataFrame(encoder.fit_transform(train_df[['Sex', 'Pclass', 'Embarked']]))\n",
        "train_X_encoded.columns = encoder.get_feature_names(['Sex', 'Pclass', 'Embarked'])\n",
        "train_df.drop(['Sex', 'Pclass', 'Embarked'] ,axis=1, inplace=True)\n",
        "train_df = pd.concat([train_df, train_X_encoded ], axis=1)\n",
        "\n",
        "train_df #novo dataframe após rodarmos o OneHotEncoder. Você consegue ver o que mudou?"
      ],
      "metadata": {
        "tags": [],
        "cell_id": "00011-ccc397bc-1512-4e6a-884b-33c1daa2ff4f",
        "deepnote_to_be_reexecuted": false,
        "source_hash": "624c923d",
        "execution_start": 1660612053384,
        "execution_millis": 238,
        "deepnote_cell_type": "code",
        "deepnote_cell_height": 867.890625,
        "id": "eP7Ug6zfVjYK",
        "colab": {
          "base_uri": "https://localhost:8080/",
          "height": 1000
        },
        "outputId": "255c583e-116f-4d7d-b093-d92c45500fbc"
      },
      "execution_count": null,
      "outputs": [
        {
          "output_type": "stream",
          "name": "stderr",
          "text": [
            "/usr/local/lib/python3.7/dist-packages/sklearn/utils/deprecation.py:87: FutureWarning: Function get_feature_names is deprecated; get_feature_names is deprecated in 1.0 and will be removed in 1.2. Please use get_feature_names_out instead.\n",
            "  warnings.warn(msg, category=FutureWarning)\n"
          ]
        },
        {
          "output_type": "execute_result",
          "data": {
            "text/plain": [
              "     PassengerId  Survived                                               Name  \\\n",
              "0              1         0                            Braund, Mr. Owen Harris   \n",
              "1              2         1  Cumings, Mrs. John Bradley (Florence Briggs Th...   \n",
              "2              3         1                             Heikkinen, Miss. Laina   \n",
              "3              4         1       Futrelle, Mrs. Jacques Heath (Lily May Peel)   \n",
              "4              5         0                           Allen, Mr. William Henry   \n",
              "..           ...       ...                                                ...   \n",
              "886          887         0                              Montvila, Rev. Juozas   \n",
              "887          888         1                       Graham, Miss. Margaret Edith   \n",
              "888          889         0           Johnston, Miss. Catherine Helen \"Carrie\"   \n",
              "889          890         1                              Behr, Mr. Karl Howell   \n",
              "890          891         0                                Dooley, Mr. Patrick   \n",
              "\n",
              "      Age  SibSp  Parch            Ticket     Fare Cabin  Sex_female  \\\n",
              "0    22.0      1      0         A/5 21171   7.2500   NaN         0.0   \n",
              "1    38.0      1      0          PC 17599  71.2833   C85         1.0   \n",
              "2    26.0      0      0  STON/O2. 3101282   7.9250   NaN         1.0   \n",
              "3    35.0      1      0            113803  53.1000  C123         1.0   \n",
              "4    35.0      0      0            373450   8.0500   NaN         0.0   \n",
              "..    ...    ...    ...               ...      ...   ...         ...   \n",
              "886  27.0      0      0            211536  13.0000   NaN         0.0   \n",
              "887  19.0      0      0            112053  30.0000   B42         1.0   \n",
              "888   NaN      1      2        W./C. 6607  23.4500   NaN         1.0   \n",
              "889  26.0      0      0            111369  30.0000  C148         0.0   \n",
              "890  32.0      0      0            370376   7.7500   NaN         0.0   \n",
              "\n",
              "     Sex_male  Pclass_1  Pclass_2  Pclass_3  Embarked_C  Embarked_Q  \\\n",
              "0         1.0       0.0       0.0       1.0         0.0         0.0   \n",
              "1         0.0       1.0       0.0       0.0         1.0         0.0   \n",
              "2         0.0       0.0       0.0       1.0         0.0         0.0   \n",
              "3         0.0       1.0       0.0       0.0         0.0         0.0   \n",
              "4         1.0       0.0       0.0       1.0         0.0         0.0   \n",
              "..        ...       ...       ...       ...         ...         ...   \n",
              "886       1.0       0.0       1.0       0.0         0.0         0.0   \n",
              "887       0.0       1.0       0.0       0.0         0.0         0.0   \n",
              "888       0.0       0.0       0.0       1.0         0.0         0.0   \n",
              "889       1.0       1.0       0.0       0.0         1.0         0.0   \n",
              "890       1.0       0.0       0.0       1.0         0.0         1.0   \n",
              "\n",
              "     Embarked_S  Embarked_nan  \n",
              "0           1.0           0.0  \n",
              "1           0.0           0.0  \n",
              "2           1.0           0.0  \n",
              "3           1.0           0.0  \n",
              "4           1.0           0.0  \n",
              "..          ...           ...  \n",
              "886         1.0           0.0  \n",
              "887         1.0           0.0  \n",
              "888         1.0           0.0  \n",
              "889         0.0           0.0  \n",
              "890         0.0           0.0  \n",
              "\n",
              "[891 rows x 18 columns]"
            ],
            "text/html": [
              "\n",
              "  <div id=\"df-f110ca3d-f497-4c49-bb21-399db3c071ec\">\n",
              "    <div class=\"colab-df-container\">\n",
              "      <div>\n",
              "<style scoped>\n",
              "    .dataframe tbody tr th:only-of-type {\n",
              "        vertical-align: middle;\n",
              "    }\n",
              "\n",
              "    .dataframe tbody tr th {\n",
              "        vertical-align: top;\n",
              "    }\n",
              "\n",
              "    .dataframe thead th {\n",
              "        text-align: right;\n",
              "    }\n",
              "</style>\n",
              "<table border=\"1\" class=\"dataframe\">\n",
              "  <thead>\n",
              "    <tr style=\"text-align: right;\">\n",
              "      <th></th>\n",
              "      <th>PassengerId</th>\n",
              "      <th>Survived</th>\n",
              "      <th>Name</th>\n",
              "      <th>Age</th>\n",
              "      <th>SibSp</th>\n",
              "      <th>Parch</th>\n",
              "      <th>Ticket</th>\n",
              "      <th>Fare</th>\n",
              "      <th>Cabin</th>\n",
              "      <th>Sex_female</th>\n",
              "      <th>Sex_male</th>\n",
              "      <th>Pclass_1</th>\n",
              "      <th>Pclass_2</th>\n",
              "      <th>Pclass_3</th>\n",
              "      <th>Embarked_C</th>\n",
              "      <th>Embarked_Q</th>\n",
              "      <th>Embarked_S</th>\n",
              "      <th>Embarked_nan</th>\n",
              "    </tr>\n",
              "  </thead>\n",
              "  <tbody>\n",
              "    <tr>\n",
              "      <th>0</th>\n",
              "      <td>1</td>\n",
              "      <td>0</td>\n",
              "      <td>Braund, Mr. Owen Harris</td>\n",
              "      <td>22.0</td>\n",
              "      <td>1</td>\n",
              "      <td>0</td>\n",
              "      <td>A/5 21171</td>\n",
              "      <td>7.2500</td>\n",
              "      <td>NaN</td>\n",
              "      <td>0.0</td>\n",
              "      <td>1.0</td>\n",
              "      <td>0.0</td>\n",
              "      <td>0.0</td>\n",
              "      <td>1.0</td>\n",
              "      <td>0.0</td>\n",
              "      <td>0.0</td>\n",
              "      <td>1.0</td>\n",
              "      <td>0.0</td>\n",
              "    </tr>\n",
              "    <tr>\n",
              "      <th>1</th>\n",
              "      <td>2</td>\n",
              "      <td>1</td>\n",
              "      <td>Cumings, Mrs. John Bradley (Florence Briggs Th...</td>\n",
              "      <td>38.0</td>\n",
              "      <td>1</td>\n",
              "      <td>0</td>\n",
              "      <td>PC 17599</td>\n",
              "      <td>71.2833</td>\n",
              "      <td>C85</td>\n",
              "      <td>1.0</td>\n",
              "      <td>0.0</td>\n",
              "      <td>1.0</td>\n",
              "      <td>0.0</td>\n",
              "      <td>0.0</td>\n",
              "      <td>1.0</td>\n",
              "      <td>0.0</td>\n",
              "      <td>0.0</td>\n",
              "      <td>0.0</td>\n",
              "    </tr>\n",
              "    <tr>\n",
              "      <th>2</th>\n",
              "      <td>3</td>\n",
              "      <td>1</td>\n",
              "      <td>Heikkinen, Miss. Laina</td>\n",
              "      <td>26.0</td>\n",
              "      <td>0</td>\n",
              "      <td>0</td>\n",
              "      <td>STON/O2. 3101282</td>\n",
              "      <td>7.9250</td>\n",
              "      <td>NaN</td>\n",
              "      <td>1.0</td>\n",
              "      <td>0.0</td>\n",
              "      <td>0.0</td>\n",
              "      <td>0.0</td>\n",
              "      <td>1.0</td>\n",
              "      <td>0.0</td>\n",
              "      <td>0.0</td>\n",
              "      <td>1.0</td>\n",
              "      <td>0.0</td>\n",
              "    </tr>\n",
              "    <tr>\n",
              "      <th>3</th>\n",
              "      <td>4</td>\n",
              "      <td>1</td>\n",
              "      <td>Futrelle, Mrs. Jacques Heath (Lily May Peel)</td>\n",
              "      <td>35.0</td>\n",
              "      <td>1</td>\n",
              "      <td>0</td>\n",
              "      <td>113803</td>\n",
              "      <td>53.1000</td>\n",
              "      <td>C123</td>\n",
              "      <td>1.0</td>\n",
              "      <td>0.0</td>\n",
              "      <td>1.0</td>\n",
              "      <td>0.0</td>\n",
              "      <td>0.0</td>\n",
              "      <td>0.0</td>\n",
              "      <td>0.0</td>\n",
              "      <td>1.0</td>\n",
              "      <td>0.0</td>\n",
              "    </tr>\n",
              "    <tr>\n",
              "      <th>4</th>\n",
              "      <td>5</td>\n",
              "      <td>0</td>\n",
              "      <td>Allen, Mr. William Henry</td>\n",
              "      <td>35.0</td>\n",
              "      <td>0</td>\n",
              "      <td>0</td>\n",
              "      <td>373450</td>\n",
              "      <td>8.0500</td>\n",
              "      <td>NaN</td>\n",
              "      <td>0.0</td>\n",
              "      <td>1.0</td>\n",
              "      <td>0.0</td>\n",
              "      <td>0.0</td>\n",
              "      <td>1.0</td>\n",
              "      <td>0.0</td>\n",
              "      <td>0.0</td>\n",
              "      <td>1.0</td>\n",
              "      <td>0.0</td>\n",
              "    </tr>\n",
              "    <tr>\n",
              "      <th>...</th>\n",
              "      <td>...</td>\n",
              "      <td>...</td>\n",
              "      <td>...</td>\n",
              "      <td>...</td>\n",
              "      <td>...</td>\n",
              "      <td>...</td>\n",
              "      <td>...</td>\n",
              "      <td>...</td>\n",
              "      <td>...</td>\n",
              "      <td>...</td>\n",
              "      <td>...</td>\n",
              "      <td>...</td>\n",
              "      <td>...</td>\n",
              "      <td>...</td>\n",
              "      <td>...</td>\n",
              "      <td>...</td>\n",
              "      <td>...</td>\n",
              "      <td>...</td>\n",
              "    </tr>\n",
              "    <tr>\n",
              "      <th>886</th>\n",
              "      <td>887</td>\n",
              "      <td>0</td>\n",
              "      <td>Montvila, Rev. Juozas</td>\n",
              "      <td>27.0</td>\n",
              "      <td>0</td>\n",
              "      <td>0</td>\n",
              "      <td>211536</td>\n",
              "      <td>13.0000</td>\n",
              "      <td>NaN</td>\n",
              "      <td>0.0</td>\n",
              "      <td>1.0</td>\n",
              "      <td>0.0</td>\n",
              "      <td>1.0</td>\n",
              "      <td>0.0</td>\n",
              "      <td>0.0</td>\n",
              "      <td>0.0</td>\n",
              "      <td>1.0</td>\n",
              "      <td>0.0</td>\n",
              "    </tr>\n",
              "    <tr>\n",
              "      <th>887</th>\n",
              "      <td>888</td>\n",
              "      <td>1</td>\n",
              "      <td>Graham, Miss. Margaret Edith</td>\n",
              "      <td>19.0</td>\n",
              "      <td>0</td>\n",
              "      <td>0</td>\n",
              "      <td>112053</td>\n",
              "      <td>30.0000</td>\n",
              "      <td>B42</td>\n",
              "      <td>1.0</td>\n",
              "      <td>0.0</td>\n",
              "      <td>1.0</td>\n",
              "      <td>0.0</td>\n",
              "      <td>0.0</td>\n",
              "      <td>0.0</td>\n",
              "      <td>0.0</td>\n",
              "      <td>1.0</td>\n",
              "      <td>0.0</td>\n",
              "    </tr>\n",
              "    <tr>\n",
              "      <th>888</th>\n",
              "      <td>889</td>\n",
              "      <td>0</td>\n",
              "      <td>Johnston, Miss. Catherine Helen \"Carrie\"</td>\n",
              "      <td>NaN</td>\n",
              "      <td>1</td>\n",
              "      <td>2</td>\n",
              "      <td>W./C. 6607</td>\n",
              "      <td>23.4500</td>\n",
              "      <td>NaN</td>\n",
              "      <td>1.0</td>\n",
              "      <td>0.0</td>\n",
              "      <td>0.0</td>\n",
              "      <td>0.0</td>\n",
              "      <td>1.0</td>\n",
              "      <td>0.0</td>\n",
              "      <td>0.0</td>\n",
              "      <td>1.0</td>\n",
              "      <td>0.0</td>\n",
              "    </tr>\n",
              "    <tr>\n",
              "      <th>889</th>\n",
              "      <td>890</td>\n",
              "      <td>1</td>\n",
              "      <td>Behr, Mr. Karl Howell</td>\n",
              "      <td>26.0</td>\n",
              "      <td>0</td>\n",
              "      <td>0</td>\n",
              "      <td>111369</td>\n",
              "      <td>30.0000</td>\n",
              "      <td>C148</td>\n",
              "      <td>0.0</td>\n",
              "      <td>1.0</td>\n",
              "      <td>1.0</td>\n",
              "      <td>0.0</td>\n",
              "      <td>0.0</td>\n",
              "      <td>1.0</td>\n",
              "      <td>0.0</td>\n",
              "      <td>0.0</td>\n",
              "      <td>0.0</td>\n",
              "    </tr>\n",
              "    <tr>\n",
              "      <th>890</th>\n",
              "      <td>891</td>\n",
              "      <td>0</td>\n",
              "      <td>Dooley, Mr. Patrick</td>\n",
              "      <td>32.0</td>\n",
              "      <td>0</td>\n",
              "      <td>0</td>\n",
              "      <td>370376</td>\n",
              "      <td>7.7500</td>\n",
              "      <td>NaN</td>\n",
              "      <td>0.0</td>\n",
              "      <td>1.0</td>\n",
              "      <td>0.0</td>\n",
              "      <td>0.0</td>\n",
              "      <td>1.0</td>\n",
              "      <td>0.0</td>\n",
              "      <td>1.0</td>\n",
              "      <td>0.0</td>\n",
              "      <td>0.0</td>\n",
              "    </tr>\n",
              "  </tbody>\n",
              "</table>\n",
              "<p>891 rows × 18 columns</p>\n",
              "</div>\n",
              "      <button class=\"colab-df-convert\" onclick=\"convertToInteractive('df-f110ca3d-f497-4c49-bb21-399db3c071ec')\"\n",
              "              title=\"Convert this dataframe to an interactive table.\"\n",
              "              style=\"display:none;\">\n",
              "        \n",
              "  <svg xmlns=\"http://www.w3.org/2000/svg\" height=\"24px\"viewBox=\"0 0 24 24\"\n",
              "       width=\"24px\">\n",
              "    <path d=\"M0 0h24v24H0V0z\" fill=\"none\"/>\n",
              "    <path d=\"M18.56 5.44l.94 2.06.94-2.06 2.06-.94-2.06-.94-.94-2.06-.94 2.06-2.06.94zm-11 1L8.5 8.5l.94-2.06 2.06-.94-2.06-.94L8.5 2.5l-.94 2.06-2.06.94zm10 10l.94 2.06.94-2.06 2.06-.94-2.06-.94-.94-2.06-.94 2.06-2.06.94z\"/><path d=\"M17.41 7.96l-1.37-1.37c-.4-.4-.92-.59-1.43-.59-.52 0-1.04.2-1.43.59L10.3 9.45l-7.72 7.72c-.78.78-.78 2.05 0 2.83L4 21.41c.39.39.9.59 1.41.59.51 0 1.02-.2 1.41-.59l7.78-7.78 2.81-2.81c.8-.78.8-2.07 0-2.86zM5.41 20L4 18.59l7.72-7.72 1.47 1.35L5.41 20z\"/>\n",
              "  </svg>\n",
              "      </button>\n",
              "      \n",
              "  <style>\n",
              "    .colab-df-container {\n",
              "      display:flex;\n",
              "      flex-wrap:wrap;\n",
              "      gap: 12px;\n",
              "    }\n",
              "\n",
              "    .colab-df-convert {\n",
              "      background-color: #E8F0FE;\n",
              "      border: none;\n",
              "      border-radius: 50%;\n",
              "      cursor: pointer;\n",
              "      display: none;\n",
              "      fill: #1967D2;\n",
              "      height: 32px;\n",
              "      padding: 0 0 0 0;\n",
              "      width: 32px;\n",
              "    }\n",
              "\n",
              "    .colab-df-convert:hover {\n",
              "      background-color: #E2EBFA;\n",
              "      box-shadow: 0px 1px 2px rgba(60, 64, 67, 0.3), 0px 1px 3px 1px rgba(60, 64, 67, 0.15);\n",
              "      fill: #174EA6;\n",
              "    }\n",
              "\n",
              "    [theme=dark] .colab-df-convert {\n",
              "      background-color: #3B4455;\n",
              "      fill: #D2E3FC;\n",
              "    }\n",
              "\n",
              "    [theme=dark] .colab-df-convert:hover {\n",
              "      background-color: #434B5C;\n",
              "      box-shadow: 0px 1px 3px 1px rgba(0, 0, 0, 0.15);\n",
              "      filter: drop-shadow(0px 1px 2px rgba(0, 0, 0, 0.3));\n",
              "      fill: #FFFFFF;\n",
              "    }\n",
              "  </style>\n",
              "\n",
              "      <script>\n",
              "        const buttonEl =\n",
              "          document.querySelector('#df-f110ca3d-f497-4c49-bb21-399db3c071ec button.colab-df-convert');\n",
              "        buttonEl.style.display =\n",
              "          google.colab.kernel.accessAllowed ? 'block' : 'none';\n",
              "\n",
              "        async function convertToInteractive(key) {\n",
              "          const element = document.querySelector('#df-f110ca3d-f497-4c49-bb21-399db3c071ec');\n",
              "          const dataTable =\n",
              "            await google.colab.kernel.invokeFunction('convertToInteractive',\n",
              "                                                     [key], {});\n",
              "          if (!dataTable) return;\n",
              "\n",
              "          const docLinkHtml = 'Like what you see? Visit the ' +\n",
              "            '<a target=\"_blank\" href=https://colab.research.google.com/notebooks/data_table.ipynb>data table notebook</a>'\n",
              "            + ' to learn more about interactive tables.';\n",
              "          element.innerHTML = '';\n",
              "          dataTable['output_type'] = 'display_data';\n",
              "          await google.colab.output.renderOutput(dataTable, element);\n",
              "          const docLink = document.createElement('div');\n",
              "          docLink.innerHTML = docLinkHtml;\n",
              "          element.appendChild(docLink);\n",
              "        }\n",
              "      </script>\n",
              "    </div>\n",
              "  </div>\n",
              "  "
            ]
          },
          "metadata": {},
          "execution_count": 13
        }
      ]
    },
    {
      "cell_type": "markdown",
      "source": [
        "### Normalizando\n",
        "\n",
        "Note que agora, todas as nossas colunas categóricas relevantes tem suas contrapartes categóricas (inclusive mais de uma).\n",
        "\n",
        "Esse processo que estamos fazendo se chama _pré-processamento_ e está centrado em tornar nossas bases adequadas para o algoritmo que pretendemos usar.\n",
        "\n",
        "Vamos então entender um novo processo de pré-processamento, agora para variáveis númericas. Uma boa prática que facilita o trabalho do nosso modelo é **normalizarmos variáveis numéricas**. Isto é, deixa-las todas com um `range` semelhante.\n",
        "\n",
        "Para isso podemos usar o `StandardScaler`, da biblioteca sklearn, para aplicarmos essas operações em nossa base, vamos aplica-las nas colunas `Age`, `SibSp` e `Fare`.\n",
        "\n",
        "Lembrando que para entender como usa você deve pesquisar por referência e exemplos na internet, e nunca se esqueça de olhar a [documentação oficial](https://scikit-learn.org/stable/modules/generated/sklearn.preprocessing.StandardScaler.html).\n",
        "\n",
        "Novamente, não se preocupe tanto com esse passo. Os comandos a serem executados estão logo abaixo. Substitua as colunas originais pelo resultado alcançado. Mas tente entender o que está acontecendo"
      ],
      "metadata": {
        "tags": [],
        "cell_id": "00012-1369d091-6d52-4c71-9412-a6637b45e72e",
        "deepnote_cell_type": "markdown",
        "deepnote_cell_height": 394.375,
        "id": "tnTMaeNyVjYL"
      }
    },
    {
      "cell_type": "code",
      "metadata": {
        "tags": [],
        "cell_id": "00013-afd44c09-268c-4e87-b5c4-a36848e7a35c",
        "deepnote_to_be_reexecuted": false,
        "source_hash": "54b69399",
        "execution_start": 1660612106419,
        "execution_millis": 130,
        "deepnote_cell_type": "code",
        "deepnote_cell_height": 775,
        "id": "atB8DD_iVjYL",
        "colab": {
          "base_uri": "https://localhost:8080/",
          "height": 991
        },
        "outputId": "cf3a6b76-ce61-4fd4-fcaf-899068ef25e8"
      },
      "source": [
        "from sklearn.preprocessing import StandardScaler\n",
        "\n",
        "features = ['Age', 'SibSp', 'Fare']\n",
        "\n",
        "ss = StandardScaler()\n",
        "\n",
        "ss.fit(train_df[features])\n",
        "\n",
        "train_df[features] = ss.transform(train_df[features])\n",
        "\n",
        "train_df"
      ],
      "execution_count": null,
      "outputs": [
        {
          "output_type": "execute_result",
          "data": {
            "text/plain": [
              "     PassengerId  Survived                                               Name  \\\n",
              "0              1         0                            Braund, Mr. Owen Harris   \n",
              "1              2         1  Cumings, Mrs. John Bradley (Florence Briggs Th...   \n",
              "2              3         1                             Heikkinen, Miss. Laina   \n",
              "3              4         1       Futrelle, Mrs. Jacques Heath (Lily May Peel)   \n",
              "4              5         0                           Allen, Mr. William Henry   \n",
              "..           ...       ...                                                ...   \n",
              "886          887         0                              Montvila, Rev. Juozas   \n",
              "887          888         1                       Graham, Miss. Margaret Edith   \n",
              "888          889         0           Johnston, Miss. Catherine Helen \"Carrie\"   \n",
              "889          890         1                              Behr, Mr. Karl Howell   \n",
              "890          891         0                                Dooley, Mr. Patrick   \n",
              "\n",
              "          Age     SibSp  Parch            Ticket      Fare Cabin  Sex_female  \\\n",
              "0   -0.530377  0.432793      0         A/5 21171 -0.502445   NaN         0.0   \n",
              "1    0.571831  0.432793      0          PC 17599  0.786845   C85         1.0   \n",
              "2   -0.254825 -0.474545      0  STON/O2. 3101282 -0.488854   NaN         1.0   \n",
              "3    0.365167  0.432793      0            113803  0.420730  C123         1.0   \n",
              "4    0.365167 -0.474545      0            373450 -0.486337   NaN         0.0   \n",
              "..        ...       ...    ...               ...       ...   ...         ...   \n",
              "886 -0.185937 -0.474545      0            211536 -0.386671   NaN         0.0   \n",
              "887 -0.737041 -0.474545      0            112053 -0.044381   B42         1.0   \n",
              "888       NaN  0.432793      2        W./C. 6607 -0.176263   NaN         1.0   \n",
              "889 -0.254825 -0.474545      0            111369 -0.044381  C148         0.0   \n",
              "890  0.158503 -0.474545      0            370376 -0.492378   NaN         0.0   \n",
              "\n",
              "     Sex_male  Pclass_1  Pclass_2  Pclass_3  Embarked_C  Embarked_Q  \\\n",
              "0         1.0       0.0       0.0       1.0         0.0         0.0   \n",
              "1         0.0       1.0       0.0       0.0         1.0         0.0   \n",
              "2         0.0       0.0       0.0       1.0         0.0         0.0   \n",
              "3         0.0       1.0       0.0       0.0         0.0         0.0   \n",
              "4         1.0       0.0       0.0       1.0         0.0         0.0   \n",
              "..        ...       ...       ...       ...         ...         ...   \n",
              "886       1.0       0.0       1.0       0.0         0.0         0.0   \n",
              "887       0.0       1.0       0.0       0.0         0.0         0.0   \n",
              "888       0.0       0.0       0.0       1.0         0.0         0.0   \n",
              "889       1.0       1.0       0.0       0.0         1.0         0.0   \n",
              "890       1.0       0.0       0.0       1.0         0.0         1.0   \n",
              "\n",
              "     Embarked_S  Embarked_nan  \n",
              "0           1.0           0.0  \n",
              "1           0.0           0.0  \n",
              "2           1.0           0.0  \n",
              "3           1.0           0.0  \n",
              "4           1.0           0.0  \n",
              "..          ...           ...  \n",
              "886         1.0           0.0  \n",
              "887         1.0           0.0  \n",
              "888         1.0           0.0  \n",
              "889         0.0           0.0  \n",
              "890         0.0           0.0  \n",
              "\n",
              "[891 rows x 18 columns]"
            ],
            "text/html": [
              "\n",
              "  <div id=\"df-f97c453f-5011-470b-a420-50dccb821a78\">\n",
              "    <div class=\"colab-df-container\">\n",
              "      <div>\n",
              "<style scoped>\n",
              "    .dataframe tbody tr th:only-of-type {\n",
              "        vertical-align: middle;\n",
              "    }\n",
              "\n",
              "    .dataframe tbody tr th {\n",
              "        vertical-align: top;\n",
              "    }\n",
              "\n",
              "    .dataframe thead th {\n",
              "        text-align: right;\n",
              "    }\n",
              "</style>\n",
              "<table border=\"1\" class=\"dataframe\">\n",
              "  <thead>\n",
              "    <tr style=\"text-align: right;\">\n",
              "      <th></th>\n",
              "      <th>PassengerId</th>\n",
              "      <th>Survived</th>\n",
              "      <th>Name</th>\n",
              "      <th>Age</th>\n",
              "      <th>SibSp</th>\n",
              "      <th>Parch</th>\n",
              "      <th>Ticket</th>\n",
              "      <th>Fare</th>\n",
              "      <th>Cabin</th>\n",
              "      <th>Sex_female</th>\n",
              "      <th>Sex_male</th>\n",
              "      <th>Pclass_1</th>\n",
              "      <th>Pclass_2</th>\n",
              "      <th>Pclass_3</th>\n",
              "      <th>Embarked_C</th>\n",
              "      <th>Embarked_Q</th>\n",
              "      <th>Embarked_S</th>\n",
              "      <th>Embarked_nan</th>\n",
              "    </tr>\n",
              "  </thead>\n",
              "  <tbody>\n",
              "    <tr>\n",
              "      <th>0</th>\n",
              "      <td>1</td>\n",
              "      <td>0</td>\n",
              "      <td>Braund, Mr. Owen Harris</td>\n",
              "      <td>-0.530377</td>\n",
              "      <td>0.432793</td>\n",
              "      <td>0</td>\n",
              "      <td>A/5 21171</td>\n",
              "      <td>-0.502445</td>\n",
              "      <td>NaN</td>\n",
              "      <td>0.0</td>\n",
              "      <td>1.0</td>\n",
              "      <td>0.0</td>\n",
              "      <td>0.0</td>\n",
              "      <td>1.0</td>\n",
              "      <td>0.0</td>\n",
              "      <td>0.0</td>\n",
              "      <td>1.0</td>\n",
              "      <td>0.0</td>\n",
              "    </tr>\n",
              "    <tr>\n",
              "      <th>1</th>\n",
              "      <td>2</td>\n",
              "      <td>1</td>\n",
              "      <td>Cumings, Mrs. John Bradley (Florence Briggs Th...</td>\n",
              "      <td>0.571831</td>\n",
              "      <td>0.432793</td>\n",
              "      <td>0</td>\n",
              "      <td>PC 17599</td>\n",
              "      <td>0.786845</td>\n",
              "      <td>C85</td>\n",
              "      <td>1.0</td>\n",
              "      <td>0.0</td>\n",
              "      <td>1.0</td>\n",
              "      <td>0.0</td>\n",
              "      <td>0.0</td>\n",
              "      <td>1.0</td>\n",
              "      <td>0.0</td>\n",
              "      <td>0.0</td>\n",
              "      <td>0.0</td>\n",
              "    </tr>\n",
              "    <tr>\n",
              "      <th>2</th>\n",
              "      <td>3</td>\n",
              "      <td>1</td>\n",
              "      <td>Heikkinen, Miss. Laina</td>\n",
              "      <td>-0.254825</td>\n",
              "      <td>-0.474545</td>\n",
              "      <td>0</td>\n",
              "      <td>STON/O2. 3101282</td>\n",
              "      <td>-0.488854</td>\n",
              "      <td>NaN</td>\n",
              "      <td>1.0</td>\n",
              "      <td>0.0</td>\n",
              "      <td>0.0</td>\n",
              "      <td>0.0</td>\n",
              "      <td>1.0</td>\n",
              "      <td>0.0</td>\n",
              "      <td>0.0</td>\n",
              "      <td>1.0</td>\n",
              "      <td>0.0</td>\n",
              "    </tr>\n",
              "    <tr>\n",
              "      <th>3</th>\n",
              "      <td>4</td>\n",
              "      <td>1</td>\n",
              "      <td>Futrelle, Mrs. Jacques Heath (Lily May Peel)</td>\n",
              "      <td>0.365167</td>\n",
              "      <td>0.432793</td>\n",
              "      <td>0</td>\n",
              "      <td>113803</td>\n",
              "      <td>0.420730</td>\n",
              "      <td>C123</td>\n",
              "      <td>1.0</td>\n",
              "      <td>0.0</td>\n",
              "      <td>1.0</td>\n",
              "      <td>0.0</td>\n",
              "      <td>0.0</td>\n",
              "      <td>0.0</td>\n",
              "      <td>0.0</td>\n",
              "      <td>1.0</td>\n",
              "      <td>0.0</td>\n",
              "    </tr>\n",
              "    <tr>\n",
              "      <th>4</th>\n",
              "      <td>5</td>\n",
              "      <td>0</td>\n",
              "      <td>Allen, Mr. William Henry</td>\n",
              "      <td>0.365167</td>\n",
              "      <td>-0.474545</td>\n",
              "      <td>0</td>\n",
              "      <td>373450</td>\n",
              "      <td>-0.486337</td>\n",
              "      <td>NaN</td>\n",
              "      <td>0.0</td>\n",
              "      <td>1.0</td>\n",
              "      <td>0.0</td>\n",
              "      <td>0.0</td>\n",
              "      <td>1.0</td>\n",
              "      <td>0.0</td>\n",
              "      <td>0.0</td>\n",
              "      <td>1.0</td>\n",
              "      <td>0.0</td>\n",
              "    </tr>\n",
              "    <tr>\n",
              "      <th>...</th>\n",
              "      <td>...</td>\n",
              "      <td>...</td>\n",
              "      <td>...</td>\n",
              "      <td>...</td>\n",
              "      <td>...</td>\n",
              "      <td>...</td>\n",
              "      <td>...</td>\n",
              "      <td>...</td>\n",
              "      <td>...</td>\n",
              "      <td>...</td>\n",
              "      <td>...</td>\n",
              "      <td>...</td>\n",
              "      <td>...</td>\n",
              "      <td>...</td>\n",
              "      <td>...</td>\n",
              "      <td>...</td>\n",
              "      <td>...</td>\n",
              "      <td>...</td>\n",
              "    </tr>\n",
              "    <tr>\n",
              "      <th>886</th>\n",
              "      <td>887</td>\n",
              "      <td>0</td>\n",
              "      <td>Montvila, Rev. Juozas</td>\n",
              "      <td>-0.185937</td>\n",
              "      <td>-0.474545</td>\n",
              "      <td>0</td>\n",
              "      <td>211536</td>\n",
              "      <td>-0.386671</td>\n",
              "      <td>NaN</td>\n",
              "      <td>0.0</td>\n",
              "      <td>1.0</td>\n",
              "      <td>0.0</td>\n",
              "      <td>1.0</td>\n",
              "      <td>0.0</td>\n",
              "      <td>0.0</td>\n",
              "      <td>0.0</td>\n",
              "      <td>1.0</td>\n",
              "      <td>0.0</td>\n",
              "    </tr>\n",
              "    <tr>\n",
              "      <th>887</th>\n",
              "      <td>888</td>\n",
              "      <td>1</td>\n",
              "      <td>Graham, Miss. Margaret Edith</td>\n",
              "      <td>-0.737041</td>\n",
              "      <td>-0.474545</td>\n",
              "      <td>0</td>\n",
              "      <td>112053</td>\n",
              "      <td>-0.044381</td>\n",
              "      <td>B42</td>\n",
              "      <td>1.0</td>\n",
              "      <td>0.0</td>\n",
              "      <td>1.0</td>\n",
              "      <td>0.0</td>\n",
              "      <td>0.0</td>\n",
              "      <td>0.0</td>\n",
              "      <td>0.0</td>\n",
              "      <td>1.0</td>\n",
              "      <td>0.0</td>\n",
              "    </tr>\n",
              "    <tr>\n",
              "      <th>888</th>\n",
              "      <td>889</td>\n",
              "      <td>0</td>\n",
              "      <td>Johnston, Miss. Catherine Helen \"Carrie\"</td>\n",
              "      <td>NaN</td>\n",
              "      <td>0.432793</td>\n",
              "      <td>2</td>\n",
              "      <td>W./C. 6607</td>\n",
              "      <td>-0.176263</td>\n",
              "      <td>NaN</td>\n",
              "      <td>1.0</td>\n",
              "      <td>0.0</td>\n",
              "      <td>0.0</td>\n",
              "      <td>0.0</td>\n",
              "      <td>1.0</td>\n",
              "      <td>0.0</td>\n",
              "      <td>0.0</td>\n",
              "      <td>1.0</td>\n",
              "      <td>0.0</td>\n",
              "    </tr>\n",
              "    <tr>\n",
              "      <th>889</th>\n",
              "      <td>890</td>\n",
              "      <td>1</td>\n",
              "      <td>Behr, Mr. Karl Howell</td>\n",
              "      <td>-0.254825</td>\n",
              "      <td>-0.474545</td>\n",
              "      <td>0</td>\n",
              "      <td>111369</td>\n",
              "      <td>-0.044381</td>\n",
              "      <td>C148</td>\n",
              "      <td>0.0</td>\n",
              "      <td>1.0</td>\n",
              "      <td>1.0</td>\n",
              "      <td>0.0</td>\n",
              "      <td>0.0</td>\n",
              "      <td>1.0</td>\n",
              "      <td>0.0</td>\n",
              "      <td>0.0</td>\n",
              "      <td>0.0</td>\n",
              "    </tr>\n",
              "    <tr>\n",
              "      <th>890</th>\n",
              "      <td>891</td>\n",
              "      <td>0</td>\n",
              "      <td>Dooley, Mr. Patrick</td>\n",
              "      <td>0.158503</td>\n",
              "      <td>-0.474545</td>\n",
              "      <td>0</td>\n",
              "      <td>370376</td>\n",
              "      <td>-0.492378</td>\n",
              "      <td>NaN</td>\n",
              "      <td>0.0</td>\n",
              "      <td>1.0</td>\n",
              "      <td>0.0</td>\n",
              "      <td>0.0</td>\n",
              "      <td>1.0</td>\n",
              "      <td>0.0</td>\n",
              "      <td>1.0</td>\n",
              "      <td>0.0</td>\n",
              "      <td>0.0</td>\n",
              "    </tr>\n",
              "  </tbody>\n",
              "</table>\n",
              "<p>891 rows × 18 columns</p>\n",
              "</div>\n",
              "      <button class=\"colab-df-convert\" onclick=\"convertToInteractive('df-f97c453f-5011-470b-a420-50dccb821a78')\"\n",
              "              title=\"Convert this dataframe to an interactive table.\"\n",
              "              style=\"display:none;\">\n",
              "        \n",
              "  <svg xmlns=\"http://www.w3.org/2000/svg\" height=\"24px\"viewBox=\"0 0 24 24\"\n",
              "       width=\"24px\">\n",
              "    <path d=\"M0 0h24v24H0V0z\" fill=\"none\"/>\n",
              "    <path d=\"M18.56 5.44l.94 2.06.94-2.06 2.06-.94-2.06-.94-.94-2.06-.94 2.06-2.06.94zm-11 1L8.5 8.5l.94-2.06 2.06-.94-2.06-.94L8.5 2.5l-.94 2.06-2.06.94zm10 10l.94 2.06.94-2.06 2.06-.94-2.06-.94-.94-2.06-.94 2.06-2.06.94z\"/><path d=\"M17.41 7.96l-1.37-1.37c-.4-.4-.92-.59-1.43-.59-.52 0-1.04.2-1.43.59L10.3 9.45l-7.72 7.72c-.78.78-.78 2.05 0 2.83L4 21.41c.39.39.9.59 1.41.59.51 0 1.02-.2 1.41-.59l7.78-7.78 2.81-2.81c.8-.78.8-2.07 0-2.86zM5.41 20L4 18.59l7.72-7.72 1.47 1.35L5.41 20z\"/>\n",
              "  </svg>\n",
              "      </button>\n",
              "      \n",
              "  <style>\n",
              "    .colab-df-container {\n",
              "      display:flex;\n",
              "      flex-wrap:wrap;\n",
              "      gap: 12px;\n",
              "    }\n",
              "\n",
              "    .colab-df-convert {\n",
              "      background-color: #E8F0FE;\n",
              "      border: none;\n",
              "      border-radius: 50%;\n",
              "      cursor: pointer;\n",
              "      display: none;\n",
              "      fill: #1967D2;\n",
              "      height: 32px;\n",
              "      padding: 0 0 0 0;\n",
              "      width: 32px;\n",
              "    }\n",
              "\n",
              "    .colab-df-convert:hover {\n",
              "      background-color: #E2EBFA;\n",
              "      box-shadow: 0px 1px 2px rgba(60, 64, 67, 0.3), 0px 1px 3px 1px rgba(60, 64, 67, 0.15);\n",
              "      fill: #174EA6;\n",
              "    }\n",
              "\n",
              "    [theme=dark] .colab-df-convert {\n",
              "      background-color: #3B4455;\n",
              "      fill: #D2E3FC;\n",
              "    }\n",
              "\n",
              "    [theme=dark] .colab-df-convert:hover {\n",
              "      background-color: #434B5C;\n",
              "      box-shadow: 0px 1px 3px 1px rgba(0, 0, 0, 0.15);\n",
              "      filter: drop-shadow(0px 1px 2px rgba(0, 0, 0, 0.3));\n",
              "      fill: #FFFFFF;\n",
              "    }\n",
              "  </style>\n",
              "\n",
              "      <script>\n",
              "        const buttonEl =\n",
              "          document.querySelector('#df-f97c453f-5011-470b-a420-50dccb821a78 button.colab-df-convert');\n",
              "        buttonEl.style.display =\n",
              "          google.colab.kernel.accessAllowed ? 'block' : 'none';\n",
              "\n",
              "        async function convertToInteractive(key) {\n",
              "          const element = document.querySelector('#df-f97c453f-5011-470b-a420-50dccb821a78');\n",
              "          const dataTable =\n",
              "            await google.colab.kernel.invokeFunction('convertToInteractive',\n",
              "                                                     [key], {});\n",
              "          if (!dataTable) return;\n",
              "\n",
              "          const docLinkHtml = 'Like what you see? Visit the ' +\n",
              "            '<a target=\"_blank\" href=https://colab.research.google.com/notebooks/data_table.ipynb>data table notebook</a>'\n",
              "            + ' to learn more about interactive tables.';\n",
              "          element.innerHTML = '';\n",
              "          dataTable['output_type'] = 'display_data';\n",
              "          await google.colab.output.renderOutput(dataTable, element);\n",
              "          const docLink = document.createElement('div');\n",
              "          docLink.innerHTML = docLinkHtml;\n",
              "          element.appendChild(docLink);\n",
              "        }\n",
              "      </script>\n",
              "    </div>\n",
              "  </div>\n",
              "  "
            ]
          },
          "metadata": {},
          "execution_count": 14
        }
      ]
    },
    {
      "cell_type": "markdown",
      "source": [
        "### Eliminando valores nulos\n",
        "\n",
        "Agora antes de irmos adiante existe uma coisa sobre regressão logística e valores numéricos que precisamos saber: _Regressões odeiam valores nulos!_ (você consegue entender o porque disso?)\n",
        "\n",
        "Analise as três colunas geradas e verifique se temos valores nulos nelas\n",
        "\n",
        "Substitua esses valores nulos pela mediana, essa é uma tecnica comum para evitar problemas de valores nulos.\n",
        "\n",
        "Uso métodos do pandas para isso. Essa aqui eu deixo com vocês escrever o código para fazer isso."
      ],
      "metadata": {
        "tags": [],
        "cell_id": "00014-dc833474-ab12-4b73-8c92-ebaad54ceb6f",
        "deepnote_cell_type": "markdown",
        "deepnote_cell_height": 231.984375,
        "id": "DbMW31-bVjYL"
      }
    },
    {
      "cell_type": "code",
      "source": [
        "#Questão 10\n",
        "#preencha os valores vazios da cooluna `Age` com a média da idade dos passageiros\n",
        "\n",
        "train_df['Age'].fillna(train_df['Age'].median(), inplace=True)"
      ],
      "metadata": {
        "tags": [],
        "cell_id": "00015-9216a8b7-6021-428f-a990-64725678a169",
        "deepnote_to_be_reexecuted": false,
        "source_hash": "3c12190d",
        "execution_start": 1660608501639,
        "execution_millis": 3,
        "deepnote_cell_type": "code",
        "deepnote_cell_height": 94,
        "id": "xDCImwN0VjYL"
      },
      "execution_count": null,
      "outputs": []
    },
    {
      "cell_type": "code",
      "source": [
        "train_df['Age'].isnull().sum()\n"
      ],
      "metadata": {
        "colab": {
          "base_uri": "https://localhost:8080/"
        },
        "id": "Z8DcLGIZHXAv",
        "outputId": "ee86d373-b76f-470e-fbc0-f9f02e1d7dea"
      },
      "execution_count": null,
      "outputs": [
        {
          "output_type": "execute_result",
          "data": {
            "text/plain": [
              "0"
            ]
          },
          "metadata": {},
          "execution_count": 37
        }
      ]
    },
    {
      "cell_type": "markdown",
      "source": [
        "### Ajustando o arquivo de teste\n",
        "\n",
        "Como voce percebeu, fizemos diversas alterações nos dados que carregamos do arquivo 'titanic_train.csv'\n",
        "Precisamos repetir os mesmos passos para os dados de teste! Os comandos são os mesmos.\n",
        "\n",
        "Carregue a base de teste e faça as mesmas transformações (`OneHotEnconding` e `StandardScalar`)."
      ],
      "metadata": {
        "cell_id": "8094c522ab544fde9a06d38465495549",
        "tags": [],
        "deepnote_cell_type": "markdown",
        "deepnote_cell_height": 159.1875,
        "id": "7mKmY4MlVjYM"
      }
    },
    {
      "cell_type": "code",
      "source": [
        "test_df = pd.read_csv('titanic_test.csv')\n",
        "\n",
        "test_df['Age'].fillna(test_df['Age'].median(), inplace=True)\n",
        "test_df['Fare'].fillna(test_df['Fare'].median(), inplace=True)\n",
        "\n",
        "features = ['Age', 'SibSp', 'Fare']\n",
        "test_df[features] = ss.transform(test_df[features])\n",
        "\n",
        "encoder = OneHotEncoder(sparse=False)\n",
        "\n",
        "test_X_encoded = pd.DataFrame(encoder.fit_transform(test_df[['Sex', 'Pclass', 'Embarked']]))\n",
        "test_X_encoded.columns = encoder.get_feature_names(['Sex', 'Pclass', 'Embarked'])\n",
        "test_df.drop(['Sex', 'Pclass', 'Embarked'] ,axis=1, inplace=True)\n",
        "test_df = pd.concat([test_df, test_X_encoded ], axis=1)"
      ],
      "metadata": {
        "cell_id": "7b5e6f297aae42d9898d030fc0d59448",
        "tags": [],
        "deepnote_to_be_reexecuted": false,
        "source_hash": "56ff99e",
        "execution_start": 1660612247028,
        "execution_millis": 34,
        "deepnote_cell_type": "code",
        "deepnote_cell_height": 364.890625,
        "id": "IjonlC_wVjYM",
        "colab": {
          "base_uri": "https://localhost:8080/"
        },
        "outputId": "ccc52945-1aa9-47b6-c415-af94180ac138"
      },
      "outputs": [
        {
          "output_type": "stream",
          "name": "stderr",
          "text": [
            "/usr/local/lib/python3.7/dist-packages/sklearn/utils/deprecation.py:87: FutureWarning: Function get_feature_names is deprecated; get_feature_names is deprecated in 1.0 and will be removed in 1.2. Please use get_feature_names_out instead.\n",
            "  warnings.warn(msg, category=FutureWarning)\n"
          ]
        }
      ],
      "execution_count": null
    },
    {
      "cell_type": "markdown",
      "source": [
        "Perceba que a coluna `Survived` não esta no arquivo `titanic_test.csv`,ao invés disso está no arquivo `titanic_test_results.csv`.\n",
        "Vamos aproveitar e já deixar tudo preparado. Apenas execute os comandos abaixo mas sempre entendendo o que está acontecendo!"
      ],
      "metadata": {
        "cell_id": "ef5d53d0ac9a4ffab51f36d4c90bfc2b",
        "tags": [],
        "deepnote_cell_type": "markdown",
        "deepnote_cell_height": 119.59375,
        "id": "QN1RnTdfVjYM"
      }
    },
    {
      "cell_type": "code",
      "source": [
        "features = ['Age', 'SibSp', 'Fare', 'Embarked_C', 'Embarked_Q', 'Embarked_S', 'Embarked_nan', 'Sex_female', 'Sex_male', 'Pclass_1', 'Pclass_2',\n",
        "       'Pclass_3'] #estamos escolhendo as colunas/features/variáveis que usaremos no nosso modelo\n",
        "\n",
        "train_df_X = train_df[features] #carregamos apenas elas para o nosso X\n",
        "\n",
        "train_df_y = train_df[['Survived']] #aqui carregamos o nosso Y"
      ],
      "metadata": {
        "cell_id": "714ae435763a4d6383be7ccd16b99a92",
        "tags": [],
        "deepnote_to_be_reexecuted": false,
        "source_hash": "f403b330",
        "execution_start": 1660612375470,
        "execution_millis": 1,
        "deepnote_cell_type": "code",
        "deepnote_cell_height": 171,
        "id": "HKoFevaEVjYM"
      },
      "outputs": [],
      "execution_count": null
    },
    {
      "cell_type": "markdown",
      "source": [
        "### Fazendo a previsão\n",
        "\n",
        "Agora vamos aplicar a regressão logística!\n",
        "\n",
        "Lembre-se de usar apenas as colunas numéricas que geramos nos últimos dois exercícios. Para o arquivo de testes nos já retiramos mas garanta passando apenas as colunas que quer usar\n",
        "\n",
        "\n",
        "\n",
        "Apresente na tela a `accuracy_score`. Para fins do exercício usaremos a acurácia para ver quão bom são nossos modelos. Lembre-se que quanto maior a nossa acurácia, melhor o modelo! (será que isso é sempre verdade?)"
      ],
      "metadata": {
        "tags": [],
        "cell_id": "00014-aaa19fa7-a6c4-49a0-801f-cfc7d58c7379",
        "deepnote_cell_type": "markdown",
        "deepnote_cell_height": 217.984375,
        "id": "xHUl1oBhVjYM"
      }
    },
    {
      "cell_type": "code",
      "source": [
        "#Questão 11\n",
        "#rode um modelo (modeloLR) de regressão logiística (LogisticRegression no scikit learn)\n",
        "#importe o modelo, inicie o modelo e depois treine o modelo (fit)\n",
        "\n",
        "from sklearn.linear_model import LogisticRegression\n",
        "\n",
        "modelo= LogisticRegression()\n",
        "modelo.fit(train_df_X, train_df_y)\n",
        "\n"
      ],
      "metadata": {
        "tags": [],
        "cell_id": "00015-8534ff5a-0d2c-4a50-8f1f-9584025a7ed1",
        "deepnote_to_be_reexecuted": false,
        "source_hash": "d222805",
        "execution_start": 1660612529855,
        "execution_millis": 0,
        "deepnote_cell_type": "code",
        "deepnote_cell_height": 130,
        "deepnote_output_heights": [
          null,
          21.1875
        ],
        "id": "66d9WAVxVjYN",
        "colab": {
          "base_uri": "https://localhost:8080/"
        },
        "outputId": "3fada391-e147-46a0-e22f-2a04e9267ca7"
      },
      "execution_count": null,
      "outputs": [
        {
          "output_type": "stream",
          "name": "stderr",
          "text": [
            "/usr/local/lib/python3.7/dist-packages/sklearn/utils/validation.py:993: DataConversionWarning: A column-vector y was passed when a 1d array was expected. Please change the shape of y to (n_samples, ), for example using ravel().\n",
            "  y = column_or_1d(y, warn=True)\n"
          ]
        },
        {
          "output_type": "execute_result",
          "data": {
            "text/plain": [
              "LogisticRegression()"
            ]
          },
          "metadata": {},
          "execution_count": 19
        }
      ]
    },
    {
      "cell_type": "markdown",
      "source": [
        "### Verificando a performance nos dados de testes\n",
        "Como nossos dados estão em 2 arquivos diferentes, agora que temos o modelo treinado (.fit()) precisamos ver como ele se sai com dados q nunca viu. Os dados do arquivo \"titanic_test.csv\" nunca foram vistos pelo modelo. Vamos carrega-lo e colocar as colunas preditoras ou variáveis independentes para ser o nosso X.\n",
        "O valor correto, variável dependente (a resposta final) está também em um terceiro arquivo \"titanic_test_results.csv\". Dessa forma esses são os dados que vamos levar para o nosso Y\n",
        "\n",
        "Após carregar esses dois arquivos em dataframes, precisamos pegar o modelo treinado e ver como ele de fato se sai com esses dados. Apenas execute os comandos abaixo mas procure entender o que está acontecendo!"
      ],
      "metadata": {
        "cell_id": "eb991b09187d4c5f92cc834dabe4aee3",
        "tags": [],
        "deepnote_cell_type": "markdown",
        "deepnote_cell_height": 248.78125,
        "id": "LdKbB_GrVjYN"
      }
    },
    {
      "cell_type": "code",
      "source": [
        "features = ['Age', 'SibSp', 'Fare', 'Embarked_C', 'Embarked_Q', 'Embarked_S', 'Embarked_nan', 'Sex_female', 'Sex_male', 'Pclass_1', 'Pclass_2',\n",
        "       'Pclass_3'] #escolhendo quais features iremos usar\n",
        "\n",
        "test_df['Embarked_nan'] = 0 \n",
        "\n",
        "test_df_X = test_df[features] #carregando as variáveis independentes\n",
        "\n",
        "test_df_y = pd.read_csv('titanic_test_results.csv')[['Survived']] #carregando a variável dependente\n"
      ],
      "metadata": {
        "cell_id": "33a08d3a9edf4b3294754c2d46b1bae2",
        "tags": [],
        "deepnote_to_be_reexecuted": false,
        "source_hash": "51d4051f",
        "execution_start": 1660612653362,
        "execution_millis": 1,
        "deepnote_cell_type": "code",
        "deepnote_cell_height": 225,
        "id": "dvkz4A4AVjYN"
      },
      "outputs": [],
      "execution_count": null
    },
    {
      "cell_type": "markdown",
      "source": [
        "### Calculando como o modelo se saiu com os dados de teste\n",
        "Agora que todos os dados já foram é a hora de pedir para o modelo prever o resultado com base nos dados do arquivo teste e após isso, vamos calcular a acurácia do modelo usado \"accuracy_score\". Não se preocupe, essa última parte do código já está escrita para você."
      ],
      "metadata": {
        "cell_id": "23670298814847c7a360a0d8263252b7",
        "tags": [],
        "deepnote_cell_type": "markdown",
        "deepnote_cell_height": 145.1875,
        "id": "io_h4FWqVjYN"
      }
    },
    {
      "cell_type": "code",
      "source": [
        "#Questão 12\n",
        "#Agora é a hora da verdade!\n",
        "#Rode um predict no seu modelo salvando o resultado em y_predRL\n",
        "\n",
        "y_predRL = modelo.predict(test_df_X)"
      ],
      "metadata": {
        "cell_id": "1fb90cc19d0d46378bf9e0d08e50e15b",
        "tags": [],
        "deepnote_to_be_reexecuted": false,
        "source_hash": "22150255",
        "execution_start": 1660612723466,
        "execution_millis": 0,
        "deepnote_cell_type": "code",
        "deepnote_cell_height": 112,
        "id": "cmWkC1__VjYO"
      },
      "outputs": [],
      "execution_count": null
    },
    {
      "cell_type": "markdown",
      "source": [
        "### Verificando o resultado Final\n",
        "Execute os comandos abaixo para sabermos a acurácia do nosso modelo! E ae, o que achou do resultado final? Bom? Ruim? Suficiente?"
      ],
      "metadata": {
        "cell_id": "43d976c95ccb4e02989eaeaea2439779",
        "tags": [],
        "deepnote_cell_type": "markdown",
        "deepnote_cell_height": 122.796875,
        "id": "559V80W1VjYO"
      }
    },
    {
      "cell_type": "code",
      "source": [
        "from sklearn import metrics\n",
        "#por fim, comparamos o valor que o modelo previu (y_predRL) com o valor que ele deveria ter previsto (test_df_y)\n",
        "print(\"Acurácia do modelo de Regressão Logística: {}\".format(metrics.accuracy_score(test_df_y, y_predRL).round(2)))"
      ],
      "metadata": {
        "cell_id": "9eed3d9b88824dfeae0c592bf563b4d3",
        "tags": [],
        "deepnote_to_be_reexecuted": false,
        "source_hash": "4ad4f75f",
        "execution_start": 1660612830034,
        "execution_millis": 9,
        "deepnote_cell_type": "code",
        "deepnote_cell_height": 147.6875,
        "id": "x9IDEB6NVjYO",
        "colab": {
          "base_uri": "https://localhost:8080/"
        },
        "outputId": "0933dbdd-22e5-4867-b3c2-e9d3df98814a"
      },
      "outputs": [
        {
          "output_type": "stream",
          "name": "stdout",
          "text": [
            "Acurácia do modelo de Regressão Logística: 0.87\n"
          ]
        }
      ],
      "execution_count": null
    },
    {
      "cell_type": "markdown",
      "source": [
        "## Ampliando a Caixa de Ferramentas\n",
        "\n",
        "Muito bem, nos últimos preparamos dados reais para aplicar em um algoritmo de regressão logistica e obter um resultado satisfatório, mas e agora?\n",
        "\n",
        "Se você acessar a [documentação do Sklearn](https://scikit-learn.org/stable/auto_examples/classification/plot_classifier_comparison.html) verá que existem diversos algoritmos de classificação, como vamos saber se, dentre todas as alternativas a nossa regressão logistica é a melhor?\n",
        "\n",
        "Uma atividade comum entre ciêntistas de dados é treinar inúmeros modelos para um mesmo problema e compará-los através de alguma ferramenta estatística. Muitas vezes um modelo especifico pode performar melhor diante de um problema por algum detalhe que muitas vezes o ciêntista de dados desconhece no momento.\n",
        "\n",
        "Então, para essa última etapa, vamos apresentar para vocês outros algoritmos de classificação. Repita os últimos passos de treino, predição e acurácia para vermos como eles se saem. "
      ],
      "metadata": {
        "cell_id": "cea38dc34b34414a8447ec7bf598fb63",
        "tags": [],
        "deepnote_cell_type": "markdown",
        "deepnote_cell_height": 329.578125,
        "id": "6R_su9d8VjYO"
      }
    },
    {
      "cell_type": "markdown",
      "source": [
        "### DecisionTree\n",
        "\n",
        "A arvore de decisão é uma das estruturas mais intuitivas de classificação, ela basicamente pega as colunas que temos e cria regras de separação até que tenhamos uma sequencia de regras que atribui com alguma acurácia entre nossas classes.\n",
        "\n",
        "A melhor forma de entender esse modelo é usá-lo e visualizar sua árvore, por isso vamos trabalhar com a base do Titanic novamente."
      ],
      "metadata": {
        "cell_id": "bdbdcf8b510e4e358682696f248f2fba",
        "tags": [],
        "deepnote_cell_type": "markdown",
        "deepnote_cell_height": 181.59375,
        "id": "WHona35SVjYO"
      }
    },
    {
      "cell_type": "code",
      "source": [
        "#Questão 13\n",
        "#Use uma árvore de decisão para criar um novo modelo (modeloDT). Passe como parâmetro para a árvore a profundidade máxima de 3 (max_depth=3)\n",
        "\n",
        "from sklearn.tree import DecisionTreeClassifier\n",
        "\n",
        "modeloDT= DecisionTreeClassifier(max_depth=3)\n",
        "modeloDT.fit(train_df_X, train_df_y)\n",
        "from sklearn import metrics\n",
        "print(\"Acurácia do modelo de Decision Tree: {}\".format(metrics.accuracy_score(test_df_y, y_predRL).round(2)))"
      ],
      "metadata": {
        "cell_id": "1ee42fdb9abd4e8ab622b0e8a371a59a",
        "tags": [],
        "deepnote_to_be_reexecuted": false,
        "source_hash": "2ed3e98f",
        "execution_start": 1660613020839,
        "execution_millis": 0,
        "deepnote_cell_type": "code",
        "deepnote_cell_height": 117,
        "id": "NkoUPmwtVjYO",
        "colab": {
          "base_uri": "https://localhost:8080/"
        },
        "outputId": "77db0c40-7b7f-4957-aa5b-a193f0f7415d"
      },
      "outputs": [
        {
          "output_type": "stream",
          "name": "stdout",
          "text": [
            "Acurácia do modelo de Decision Tree: 0.87\n"
          ]
        }
      ],
      "execution_count": null
    },
    {
      "cell_type": "markdown",
      "source": [
        "### Visualizando a árvore de decisão\n",
        "\n",
        "Uma das vantagens das árvores de decisão é que podemos visualizar o seu resultado. Execute o código abaixo para plotarmos o resultado final e tente entender passo a passo o que está acontecendo. \n",
        "\n",
        "O método `plot_tree` presente na biblioteca do sklearn apresenta na tela o modelo que acabamos de construir. Execute os comandos abaixo e interprete o resultado"
      ],
      "metadata": {
        "cell_id": "02757b465f2a4a728b9df27c3bcd1754",
        "tags": [],
        "deepnote_cell_type": "markdown",
        "deepnote_cell_height": 181.59375,
        "id": "wsBHuFFcVjYP"
      }
    },
    {
      "cell_type": "code",
      "source": [
        "test_df_X.columns #visualizando as colunas usadas no teste"
      ],
      "metadata": {
        "cell_id": "7546c7bcb6464c1d81467fe0791da1a9",
        "tags": [],
        "deepnote_to_be_reexecuted": false,
        "source_hash": "dcf2aa03",
        "execution_start": 1660613184746,
        "execution_millis": 2,
        "deepnote_cell_type": "code",
        "deepnote_cell_height": 170.78125,
        "deepnote_output_heights": [
          78.78125
        ],
        "id": "xBgMdxKBVjYP",
        "colab": {
          "base_uri": "https://localhost:8080/"
        },
        "outputId": "428dd9ef-4946-42fe-818b-2f7232b133ea"
      },
      "outputs": [
        {
          "output_type": "execute_result",
          "data": {
            "text/plain": [
              "Index(['Age', 'SibSp', 'Fare', 'Embarked_C', 'Embarked_Q', 'Embarked_S',\n",
              "       'Embarked_nan', 'Sex_female', 'Sex_male', 'Pclass_1', 'Pclass_2',\n",
              "       'Pclass_3'],\n",
              "      dtype='object')"
            ]
          },
          "metadata": {},
          "execution_count": 24
        }
      ],
      "execution_count": null
    },
    {
      "cell_type": "code",
      "source": [
        "from sklearn import tree\n",
        "import matplotlib.pyplot as plt\n",
        "\n",
        "plt.figure(figsize=(12,12))  # set plot size (denoted in inches)\n",
        "tree.plot_tree(modeloDT, fontsize=10)\n",
        "plt.show()"
      ],
      "metadata": {
        "cell_id": "a2a2856932c142d486383bb6a823fa5d",
        "tags": [],
        "deepnote_to_be_reexecuted": false,
        "source_hash": "91580810",
        "execution_start": 1660613188576,
        "execution_millis": 1106,
        "deepnote_cell_type": "code",
        "deepnote_cell_height": 793,
        "deepnote_output_heights": [
          611,
          21.1875
        ],
        "id": "mHpOhf9xVjYP",
        "colab": {
          "base_uri": "https://localhost:8080/",
          "height": 683
        },
        "outputId": "ca21cf52-c38c-4223-9cdd-3cf4e3d9051b"
      },
      "outputs": [
        {
          "output_type": "display_data",
          "data": {
            "text/plain": [
              "<Figure size 864x864 with 1 Axes>"
            ],
            "image/png": "[encoded data removed]"
          },
          "metadata": {
            "needs_background": "light"
          }
        }
      ],
      "execution_count": null
    },
    {
      "cell_type": "markdown",
      "source": [
        "## Support Vector Machine\n",
        "\n",
        "Suppoer Vector Machine, Máquina de vetores de suporte ou simplesmente SVM é a abordagem popular de classificação baseado em um conjunto de separadores lineares, a matemática por trás é bem interessante e você pode [conhecer mais por aqui](https://towardsdatascience.com/https-medium-com-pupalerushikesh-svm-f4b42800e989). Porém, hoje, focaremos apenas na implementação.\n",
        "\n",
        "Procure pela implementação `SVC` do skelearn, que é a implementação de SVM aplicada a problemas de classificação e aplique a nossa base `Titanic`. Procure também entender os parametros `C` e `kernel` do modelo, brinque um pouco com eles e teste diferentes valores, o que você percebe no resultado?\n"
      ],
      "metadata": {
        "cell_id": "eb94d03449e140599253c6d36c7f31f8",
        "tags": [],
        "deepnote_cell_type": "markdown",
        "deepnote_cell_height": 234.390625,
        "id": "Q_UHMGdxVjYP"
      }
    },
    {
      "cell_type": "code",
      "source": [
        "#Questão 14\n",
        "#Use o SVM (SVC - modeloSVC). Para prever os valores. Troque o `Kernel` do modelo e o hiperparâmetro C. \n",
        "#Será que você consegue obter valores melhores do que os já alcançados até agora?\n",
        "\n",
        "from sklearn.svm import SVC\n",
        "modeloSVC = SVC(C = 1, kernel= \"rbf\")\n",
        "modeloSVC.fit(train_df_X, train_df_y) \n",
        "predSVC_y = modeloSVC.predict(test_df_X)\n",
        "\n",
        "print(\"Acurácia do modelo de SVM: {}\".format(metrics.accuracy_score(test_df_y, predSVC_y).round(2)))"
      ],
      "metadata": {
        "cell_id": "ec7aefff78484c408f1ab3bd1ee9562e",
        "tags": [],
        "deepnote_to_be_reexecuted": false,
        "source_hash": "1f6bb0e8",
        "execution_start": 1660613364470,
        "execution_millis": 3,
        "deepnote_cell_type": "code",
        "deepnote_cell_height": 112,
        "id": "jgtvAO5IVjYP",
        "colab": {
          "base_uri": "https://localhost:8080/"
        },
        "outputId": "3fe89d1d-cc37-4835-ac20-a1e635b187c2"
      },
      "outputs": [
        {
          "output_type": "stream",
          "name": "stdout",
          "text": [
            "Acurácia do modelo de SVM: 0.93\n"
          ]
        },
        {
          "output_type": "stream",
          "name": "stderr",
          "text": [
            "/usr/local/lib/python3.7/dist-packages/sklearn/utils/validation.py:993: DataConversionWarning: A column-vector y was passed when a 1d array was expected. Please change the shape of y to (n_samples, ), for example using ravel().\n",
            "  y = column_or_1d(y, warn=True)\n"
          ]
        }
      ],
      "execution_count": null
    },
    {
      "cell_type": "code",
      "source": [
        "#Questão 15\n",
        "#Use o Naive Bayes (modeloNB).\n",
        "#Será que você consegue obter valores melhores do que os já alcançados até agora?\n",
        "from sklearn.naive_bayes import GaussianNB\n",
        "\n",
        "modeloNB= GaussianNB()\n",
        "modeloNB.fit(train_df_X, train_df_y)\n",
        "pred_NB_y = modeloNB.predict(test_df_X)\n",
        "\n",
        "print(\"Acurácia do modelo de NB: {}\".format(metrics.accuracy_score(test_df_y, pred_NB_y).round(2)))"
      ],
      "metadata": {
        "cell_id": "9313254961e649b4b36ad80add0d254e",
        "tags": [],
        "deepnote_cell_type": "code",
        "deepnote_cell_height": 97,
        "id": "zFHVf0qRVjYQ",
        "colab": {
          "base_uri": "https://localhost:8080/"
        },
        "outputId": "6d623795-90bf-411a-8d8a-941ed1378d25"
      },
      "outputs": [
        {
          "output_type": "stream",
          "name": "stdout",
          "text": [
            "Acurácia do modelo de NB: 0.75\n"
          ]
        },
        {
          "output_type": "stream",
          "name": "stderr",
          "text": [
            "/usr/local/lib/python3.7/dist-packages/sklearn/utils/validation.py:993: DataConversionWarning: A column-vector y was passed when a 1d array was expected. Please change the shape of y to (n_samples, ), for example using ravel().\n",
            "  y = column_or_1d(y, warn=True)\n"
          ]
        }
      ],
      "execution_count": null
    },
    {
      "cell_type": "code",
      "source": [
        "#Questão 16\n",
        "#O bom e conhecido KNN! Use o KNN (modeloSVC). Para prever os valores.  \n",
        "#Será que você consegue obter valores melhores do que os já alcançados até agora?\n",
        "#se você usar n_neighbors=2, o resultado melhora ou piora? E se for n_neighbors=10? \n",
        "from sklearn.neighbors import KNeighborsClassifier\n",
        "modeloKSVC = KNeighborsClassifier(n_neighbors= 5)\n",
        "modeloKSVC.fit(train_df_X, train_df_y)\n",
        "pred_KSVC_y = modelo.predict(test_df_X)\n",
        "\n",
        "print(\"Acurácia do modelo de KNN: {}\".format(metrics.accuracy_score(test_df_y, pred_KSVC_y).round(2)))\n"
      ],
      "metadata": {
        "cell_id": "e1e8d845426744448957095b29e1142b",
        "tags": [],
        "deepnote_cell_type": "code",
        "deepnote_cell_height": 115,
        "id": "h5jaVkGPVjYQ",
        "colab": {
          "base_uri": "https://localhost:8080/"
        },
        "outputId": "57655fa7-0426-4661-c69a-e0da47936537"
      },
      "outputs": [
        {
          "output_type": "stream",
          "name": "stdout",
          "text": [
            "Acurácia do modelo de NB: 0.87\n"
          ]
        },
        {
          "output_type": "stream",
          "name": "stderr",
          "text": [
            "/usr/local/lib/python3.7/dist-packages/sklearn/neighbors/_classification.py:198: DataConversionWarning: A column-vector y was passed when a 1d array was expected. Please change the shape of y to (n_samples,), for example using ravel().\n",
            "  return self._fit(X, y)\n"
          ]
        }
      ],
      "execution_count": null
    },
    {
      "cell_type": "code",
      "source": [
        "#Questão 17\n",
        "#Rode o otimizador SGD\n",
        "#se você rodar o modelo mais de uma vez, sem alterar nada, o resultado final muda? \n",
        "#Como saber qual o melhor resultado podemos obter com esse modelo?\n",
        "\n",
        "from sklearn.linear_model import SGDClassifier\n",
        "modeloSGD = SGDClassifier(loss= 'hinge', max_iter= 100)\n",
        "modeloSGD.fit(train_df_X, train_df_y)\n",
        "pred_SGD_y = modeloSGD.predict(test_df_X)\n",
        "\n",
        "#\"hinge\",‘log_loss’, ‘modified_huber’, ‘squared_hinge’, ‘perceptron’, \n",
        "#‘squared_error’, ‘huber’, ‘epsilon_insensitive’ and ‘squared_epsilon_insensitive’"
      ],
      "metadata": {
        "cell_id": "ab38f67e5ffd4327ac083c3c5fe2037a",
        "tags": [],
        "deepnote_cell_type": "code",
        "deepnote_cell_height": 115,
        "id": "dC22nuIWVjYQ",
        "colab": {
          "base_uri": "https://localhost:8080/"
        },
        "outputId": "8a15eacd-e6a0-44a0-8a9d-102a05d6b9f0"
      },
      "outputs": [
        {
          "output_type": "stream",
          "name": "stderr",
          "text": [
            "/usr/local/lib/python3.7/dist-packages/sklearn/utils/validation.py:993: DataConversionWarning: A column-vector y was passed when a 1d array was expected. Please change the shape of y to (n_samples, ), for example using ravel().\n",
            "  y = column_or_1d(y, warn=True)\n"
          ]
        }
      ],
      "execution_count": null
    },
    {
      "cell_type": "code",
      "source": [
        "print(\"Acurácia do modelo de SGD: {}\".format(metrics.accuracy_score(test_df_y, pred_SGD_y).round(2)))"
      ],
      "metadata": {
        "colab": {
          "base_uri": "https://localhost:8080/"
        },
        "id": "vgFLxm23oRJ7",
        "outputId": "1bc434bd-9073-4848-f62d-ee9998a7ff3c"
      },
      "execution_count": null,
      "outputs": [
        {
          "output_type": "stream",
          "name": "stdout",
          "text": [
            "Acurácia do modelo de NB: 0.72\n"
          ]
        }
      ]
    },
    {
      "cell_type": "code",
      "source": [
        "#Questão 18\n",
        "#Rode o otimizador RandomForest\n",
        "#se você rodar o modelo mais de uma vez, sem alterar nada, o resultado final muda? \n",
        "#Como saber qual o melhor resultado podemos obter com esse modelo? \n",
        "#se alterarmos o valor de n_estimators e min_samples_leaf, os resultados mudam?\n",
        "\n",
        "from sklearn.ensemble import RandomForestClassifier\n",
        "\n",
        "modelo_RFC = RandomForestClassifier()\n",
        "modelo_RFC.fit(train_df_X, train_df_y)\n",
        "pred_RFC_y = modelo_RFC.predict(test_df_X)\n",
        "\n",
        "print(\"Acurácia do modelo de RandomForest: {}\".format(metrics.accuracy_score(test_df_y, pred_RFC_y).round(2)))"
      ],
      "metadata": {
        "cell_id": "e8d6a9a46af04e308a99118bc3f4bd62",
        "tags": [],
        "deepnote_cell_type": "code",
        "deepnote_cell_height": 133,
        "id": "uU2SL-8rVjYR",
        "colab": {
          "base_uri": "https://localhost:8080/"
        },
        "outputId": "3ea8bba7-8b93-4e5e-d31d-a6c0a18ef227"
      },
      "outputs": [
        {
          "output_type": "stream",
          "name": "stderr",
          "text": [
            "/usr/local/lib/python3.7/dist-packages/ipykernel_launcher.py:10: DataConversionWarning: A column-vector y was passed when a 1d array was expected. Please change the shape of y to (n_samples,), for example using ravel().\n",
            "  # Remove the CWD from sys.path while we load stuff.\n"
          ]
        },
        {
          "output_type": "stream",
          "name": "stdout",
          "text": [
            "Acurácia do modelo de NB: 0.88\n"
          ]
        }
      ],
      "execution_count": null
    },
    {
      "cell_type": "code",
      "source": [
        "#Questão 19\n",
        "#Qual modelo entregou a maior acurácia? \n",
        "\n",
        "#Modelo SVC com 0.93"
      ],
      "metadata": {
        "cell_id": "3ed997739184455c9f4fddee7408219a",
        "tags": [],
        "deepnote_to_be_reexecuted": false,
        "source_hash": "36f5f8e",
        "execution_start": 1660614386834,
        "execution_millis": 1,
        "deepnote_cell_type": "code",
        "deepnote_cell_height": 79,
        "id": "ygIJEA2kVjYR"
      },
      "outputs": [],
      "execution_count": null
    }
  ],
  "nbformat": 4,
  "nbformat_minor": 0,
  "metadata": {
    "orig_nbformat": 2,
    "deepnote": {
      "is_reactive": false
    },
    "deepnote_notebook_id": "8f2052cf-165b-464f-84eb-681c6be3a2dd",
    "deepnote_execution_queue": [],
    "colab": {
      "provenance": [],
      "collapsed_sections": [],
      "include_colab_link": true
    },
    "language_info": {
      "name": "python"
    },
    "kernelspec": {
      "name": "python3",
      "display_name": "Python 3"
    },
    "gpuClass": "standard"
  }
}